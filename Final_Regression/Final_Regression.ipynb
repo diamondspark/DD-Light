{
 "cells": [
  {
   "cell_type": "code",
   "execution_count": 1,
   "metadata": {},
   "outputs": [],
   "source": [
    "import pickle\n",
    "import pandas as pd\n",
    "import glob\n",
    "from tqdm import tqdm_notebook"
   ]
  },
  {
   "cell_type": "code",
   "execution_count": null,
   "metadata": {},
   "outputs": [
    {
     "name": "stderr",
     "output_type": "stream",
     "text": [
      "/tmp/ipykernel_741275/2093104318.py:3: TqdmDeprecationWarning: This function will be removed in tqdm==5.0.0\n",
      "Please use `tqdm.notebook.tqdm` instead of `tqdm.tqdm_notebook`\n",
      "  for file in tqdm_notebook(allmols_virthits_list):\n"
     ]
    },
    {
     "data": {
      "application/vnd.jupyter.widget-view+json": {
       "model_id": "cdcd47982978492dae5e9337a166e458",
       "version_major": 2,
       "version_minor": 0
      },
      "text/plain": [
       "  0%|          | 0/51 [00:00<?, ?it/s]"
      ]
     },
     "metadata": {},
     "output_type": "display_data"
    }
   ],
   "source": [
    "allmols_virthits_list = glob.glob('/groups/cherkasvgrp/Student_backup/mkpandey/My_Projects/DDSgroups/Projects/DDS_AL_2M_2_dynamicVAL_mpro_bald_advanced_molformer_False_True/Regression/allmols_*.pkl')\n",
    "all_molecules_list = []\n",
    "for file in tqdm_notebook(allmols_virthits_list):\n",
    "    with open(file,'rb') as f:\n",
    "        (all_molecules, virtual_hits) = pickle.load(f)\n",
    "    all_molecules_list.extend(all_molecules)\n",
    "    # break"
   ]
  },
  {
   "cell_type": "code",
   "execution_count": 3,
   "metadata": {},
   "outputs": [
    {
     "data": {
      "text/plain": [
       "778517250"
      ]
     },
     "execution_count": 3,
     "metadata": {},
     "output_type": "execute_result"
    }
   ],
   "source": [
    "# with open('/groups/cherkasvgrp/Student_backup/mkpandey/My_Projects/DDSgroups/Projects/DDS_AL_2M_2_dynamicVAL_mpro_bald_advanced_molformer_False_True/Regression/all_molecules_list.pkl','wb') as f:\n",
    "#     pickle.dump(all_molecules_list,f)\n",
    "len(all_molecules_list)"
   ]
  },
  {
   "cell_type": "code",
   "execution_count": 5,
   "metadata": {},
   "outputs": [
    {
     "data": {
      "text/plain": [
       "[('ZINCpG000005WYQ4',\n",
       "  'Cc1cnoc1C(=O)N1[C@H]2C[C@H]2C[C@@H]1C(=O)Nc1ccc(Br)c(Cl)c1',\n",
       "  0),\n",
       " ('ZINCmb00000a7xsd', 'CC(C)[C@H](C)C(=O)NCCOCCNC(=O)c1cnc(O)s1', 0),\n",
       " ('ZINCme000006M1iL', 'C[C@@H](CN=c1[nH]cnc2c1COC2)N(C)C(=O)[C@@H]1CCOC1', 0)]"
      ]
     },
     "execution_count": 5,
     "metadata": {},
     "output_type": "execute_result"
    }
   ],
   "source": [
    "all_molecules_list[0:3]"
   ]
  },
  {
   "cell_type": "code",
   "execution_count": 4,
   "metadata": {},
   "outputs": [],
   "source": [
    "# target = 'jak2'\n",
    "# mol_df = pickle.load(open(f'/groups/cherkasvgrp/Student_backup/mkpandey/My_Projects/DDSgroups/Projects/dock_{target}/iteration_0/2M_mols_w_dockscores_{target}.pkl','rb'))\n",
    "with open('/groups/cherkasvgrp/Student_backup/mkpandey/My_Projects/DDSgroups/data/lsd_dock_mpro/778M_mols_w_dockscores.pkl','rb') as f:\n",
    "    mol_df = pickle.load(f)"
   ]
  },
  {
   "cell_type": "code",
   "execution_count": 5,
   "metadata": {},
   "outputs": [
    {
     "data": {
      "text/html": [
       "<div>\n",
       "<style scoped>\n",
       "    .dataframe tbody tr th:only-of-type {\n",
       "        vertical-align: middle;\n",
       "    }\n",
       "\n",
       "    .dataframe tbody tr th {\n",
       "        vertical-align: top;\n",
       "    }\n",
       "\n",
       "    .dataframe thead th {\n",
       "        text-align: right;\n",
       "    }\n",
       "</style>\n",
       "<table border=\"1\" class=\"dataframe\">\n",
       "  <thead>\n",
       "    <tr style=\"text-align: right;\">\n",
       "      <th></th>\n",
       "      <th>smiles</th>\n",
       "      <th>zinc_id</th>\n",
       "      <th>mpro_dockscores</th>\n",
       "    </tr>\n",
       "  </thead>\n",
       "  <tbody>\n",
       "    <tr>\n",
       "      <th>4735375</th>\n",
       "      <td>CC[C@@H](C#N)C(=O)NC[C@@H](C)NC(=O)c1ccc(C(C)(...</td>\n",
       "      <td>ZINCnq000002ZH71</td>\n",
       "      <td>-20.69</td>\n",
       "    </tr>\n",
       "    <tr>\n",
       "      <th>2633486</th>\n",
       "      <td>CC[C@H](COC(F)(F)F)NC(=O)c1cccc([C@@]2(C)CCO2)c1</td>\n",
       "      <td>ZINCnD000007rCgx</td>\n",
       "      <td>-18.09</td>\n",
       "    </tr>\n",
       "  </tbody>\n",
       "</table>\n",
       "</div>"
      ],
      "text/plain": [
       "                                                    smiles           zinc_id  \\\n",
       "4735375  CC[C@@H](C#N)C(=O)NC[C@@H](C)NC(=O)c1ccc(C(C)(...  ZINCnq000002ZH71   \n",
       "2633486   CC[C@H](COC(F)(F)F)NC(=O)c1cccc([C@@]2(C)CCO2)c1  ZINCnD000007rCgx   \n",
       "\n",
       "         mpro_dockscores  \n",
       "4735375           -20.69  \n",
       "2633486           -18.09  "
      ]
     },
     "execution_count": 5,
     "metadata": {},
     "output_type": "execute_result"
    }
   ],
   "source": [
    "mol_df.head(2)"
   ]
  },
  {
   "cell_type": "code",
   "execution_count": 6,
   "metadata": {},
   "outputs": [
    {
     "data": {
      "text/html": [
       "<div>\n",
       "<style scoped>\n",
       "    .dataframe tbody tr th:only-of-type {\n",
       "        vertical-align: middle;\n",
       "    }\n",
       "\n",
       "    .dataframe tbody tr th {\n",
       "        vertical-align: top;\n",
       "    }\n",
       "\n",
       "    .dataframe thead th {\n",
       "        text-align: right;\n",
       "    }\n",
       "</style>\n",
       "<table border=\"1\" class=\"dataframe\">\n",
       "  <thead>\n",
       "    <tr style=\"text-align: right;\">\n",
       "      <th></th>\n",
       "      <th>smiles</th>\n",
       "      <th>zinc_id</th>\n",
       "      <th>mpro_dockscores</th>\n",
       "      <th>labels</th>\n",
       "    </tr>\n",
       "  </thead>\n",
       "  <tbody>\n",
       "    <tr>\n",
       "      <th>4735375</th>\n",
       "      <td>CC[C@@H](C#N)C(=O)NC[C@@H](C)NC(=O)c1ccc(C(C)(...</td>\n",
       "      <td>ZINCnq000002ZH71</td>\n",
       "      <td>-20.69</td>\n",
       "      <td>False</td>\n",
       "    </tr>\n",
       "    <tr>\n",
       "      <th>2633486</th>\n",
       "      <td>CC[C@H](COC(F)(F)F)NC(=O)c1cccc([C@@]2(C)CCO2)c1</td>\n",
       "      <td>ZINCnD000007rCgx</td>\n",
       "      <td>-18.09</td>\n",
       "      <td>False</td>\n",
       "    </tr>\n",
       "    <tr>\n",
       "      <th>1551261</th>\n",
       "      <td>CC[C@@H](CC(=O)NC[C@@H](O)CNC(=O)c1cc(C)oc1C)OC</td>\n",
       "      <td>ZINCnf000006ldYJ</td>\n",
       "      <td>-18.89</td>\n",
       "      <td>False</td>\n",
       "    </tr>\n",
       "    <tr>\n",
       "      <th>790307</th>\n",
       "      <td>Cc1ccc([C@H](C)C(=O)N2CC([C@H](C)NC(=O)c3cscc3...</td>\n",
       "      <td>ZINCpG000003E0na</td>\n",
       "      <td>-31.46</td>\n",
       "      <td>False</td>\n",
       "    </tr>\n",
       "    <tr>\n",
       "      <th>3799776</th>\n",
       "      <td>CN(CC1CN(C(=O)[C@H]2CC(=O)N2)C1)C(=O)CC[C@@H]1...</td>\n",
       "      <td>ZINCo7000003IqFz</td>\n",
       "      <td>-28.59</td>\n",
       "      <td>False</td>\n",
       "    </tr>\n",
       "    <tr>\n",
       "      <th>...</th>\n",
       "      <td>...</td>\n",
       "      <td>...</td>\n",
       "      <td>...</td>\n",
       "      <td>...</td>\n",
       "    </tr>\n",
       "    <tr>\n",
       "      <th>1789443</th>\n",
       "      <td>CC/C=C(\\C)C(=O)N1C[C@@H](F)C[C@H]1CNC(=O)C1(SC...</td>\n",
       "      <td>ZINCnw00000ahR6X</td>\n",
       "      <td>-22.53</td>\n",
       "      <td>False</td>\n",
       "    </tr>\n",
       "    <tr>\n",
       "      <th>535190</th>\n",
       "      <td>CO[C@H]1C[C@H](NS(=O)(=O)c2cc(F)c(Cl)cc2F)C12CCC2</td>\n",
       "      <td>ZINCmy000006GHgV</td>\n",
       "      <td>-23.09</td>\n",
       "      <td>False</td>\n",
       "    </tr>\n",
       "    <tr>\n",
       "      <th>4087846</th>\n",
       "      <td>CCC(=O)NC(C)(C)CN(C)C(=O)c1cn2ccc(Br)cc2n1</td>\n",
       "      <td>ZINCnu000009iGJc</td>\n",
       "      <td>-33.71</td>\n",
       "      <td>False</td>\n",
       "    </tr>\n",
       "    <tr>\n",
       "      <th>1744280</th>\n",
       "      <td>CC1(C)C[C@@H](CO)CN1C(=O)[C@@H]1COc2c(Br)cccc2C1</td>\n",
       "      <td>ZINCmw000006a30v</td>\n",
       "      <td>-19.51</td>\n",
       "      <td>False</td>\n",
       "    </tr>\n",
       "    <tr>\n",
       "      <th>1046835</th>\n",
       "      <td>O=C(C=CC1CC1)N[C@@H]1C[C@H]1CNC(=O)[C@@H]1CCSC1</td>\n",
       "      <td>ZINCkj00000hdgXb</td>\n",
       "      <td>-22.28</td>\n",
       "      <td>False</td>\n",
       "    </tr>\n",
       "  </tbody>\n",
       "</table>\n",
       "<p>778517250 rows × 4 columns</p>\n",
       "</div>"
      ],
      "text/plain": [
       "                                                    smiles           zinc_id  \\\n",
       "4735375  CC[C@@H](C#N)C(=O)NC[C@@H](C)NC(=O)c1ccc(C(C)(...  ZINCnq000002ZH71   \n",
       "2633486   CC[C@H](COC(F)(F)F)NC(=O)c1cccc([C@@]2(C)CCO2)c1  ZINCnD000007rCgx   \n",
       "1551261    CC[C@@H](CC(=O)NC[C@@H](O)CNC(=O)c1cc(C)oc1C)OC  ZINCnf000006ldYJ   \n",
       "790307   Cc1ccc([C@H](C)C(=O)N2CC([C@H](C)NC(=O)c3cscc3...  ZINCpG000003E0na   \n",
       "3799776  CN(CC1CN(C(=O)[C@H]2CC(=O)N2)C1)C(=O)CC[C@@H]1...  ZINCo7000003IqFz   \n",
       "...                                                    ...               ...   \n",
       "1789443  CC/C=C(\\C)C(=O)N1C[C@@H](F)C[C@H]1CNC(=O)C1(SC...  ZINCnw00000ahR6X   \n",
       "535190   CO[C@H]1C[C@H](NS(=O)(=O)c2cc(F)c(Cl)cc2F)C12CCC2  ZINCmy000006GHgV   \n",
       "4087846         CCC(=O)NC(C)(C)CN(C)C(=O)c1cn2ccc(Br)cc2n1  ZINCnu000009iGJc   \n",
       "1744280   CC1(C)C[C@@H](CO)CN1C(=O)[C@@H]1COc2c(Br)cccc2C1  ZINCmw000006a30v   \n",
       "1046835    O=C(C=CC1CC1)N[C@@H]1C[C@H]1CNC(=O)[C@@H]1CCSC1  ZINCkj00000hdgXb   \n",
       "\n",
       "         mpro_dockscores  labels  \n",
       "4735375           -20.69   False  \n",
       "2633486           -18.09   False  \n",
       "1551261           -18.89   False  \n",
       "790307            -31.46   False  \n",
       "3799776           -28.59   False  \n",
       "...                  ...     ...  \n",
       "1789443           -22.53   False  \n",
       "535190            -23.09   False  \n",
       "4087846           -33.71   False  \n",
       "1744280           -19.51   False  \n",
       "1046835           -22.28   False  \n",
       "\n",
       "[778517250 rows x 4 columns]"
      ]
     },
     "execution_count": 6,
     "metadata": {},
     "output_type": "execute_result"
    }
   ],
   "source": [
    "threshold = -37.48 # -9.6\n",
    "mol_df['labels'] = mol_df.mpro_dockscores<threshold\n",
    "mol_df"
   ]
  },
  {
   "cell_type": "code",
   "execution_count": 7,
   "metadata": {},
   "outputs": [
    {
     "name": "stdout",
     "output_type": "stream",
     "text": [
      "Enrichment Factor (EF1%): 18.55\n"
     ]
    }
   ],
   "source": [
    "import pandas as pd\n",
    "\n",
    "# Load ground truth dataframe\n",
    "ground_truth_df = mol_df  # Load your actual ground truth CSV\n",
    "\n",
    "# Convert predictions into a DataFrame\n",
    "predictions = all_molecules_list\n",
    "predictions_df = pd.DataFrame(predictions, columns=[\"zinc_id\", \"smiles\", \"pred_label\"])\n",
    "\n",
    "# Merge predictions with ground truth\n",
    "merged_df = ground_truth_df.merge(predictions_df, on=\"zinc_id\", how=\"inner\")\n",
    "\n",
    "# Sort by predicted labels (assuming higher scores are better)\n",
    "merged_df = merged_df.sort_values(by=\"pred_label\", ascending=False)\n",
    "merged_df\n",
    "\n",
    "# Compute enrichment\n",
    "top_n = int(0.01 * len(merged_df))  # Consider top 1% ranked molecules\n",
    "top_n_df = merged_df.iloc[:top_n]\n",
    "\n",
    "# Compute fractions\n",
    "total_true_fraction = merged_df[\"labels\"].sum() / len(merged_df)\n",
    "top_true_fraction = top_n_df[\"labels\"].sum() / top_n\n",
    "\n",
    "enrichment = top_true_fraction / total_true_fraction\n",
    "\n",
    "print(f\"Enrichment Factor (EF1%): {enrichment:.2f}\")\n"
   ]
  },
  {
   "cell_type": "code",
   "execution_count": 8,
   "metadata": {},
   "outputs": [
    {
     "data": {
      "image/png": "[encoded data removed]",
      "text/plain": [
       "<Figure size 800x600 with 1 Axes>"
      ]
     },
     "metadata": {},
     "output_type": "display_data"
    }
   ],
   "source": [
    "# Define screening percentages\n",
    "import numpy as np\n",
    "from matplotlib import pyplot as plt\n",
    "\n",
    "percentages = np.linspace(0.01, 0.10, 10)  # 1% to 10%\n",
    "enrichment_values = []\n",
    "\n",
    "total_actives = merged_df[\"labels\"].sum()  # Total number of positives in dataset\n",
    "\n",
    "for p in percentages:\n",
    "    top_n = int(p * len(merged_df))\n",
    "    top_n_df = merged_df.iloc[:top_n]\n",
    "    top_true_fraction = top_n_df[\"labels\"].sum() / total_actives  # Fraction of actives retrieved\n",
    "    enrichment_values.append(top_true_fraction)\n",
    "\n",
    "# Plot the Enrichment Curve\n",
    "plt.figure(figsize=(8, 6))\n",
    "plt.plot(percentages * 100, enrichment_values, marker='o', linestyle='-', color='b', label=\"Enrichment Curve\")\n",
    "plt.axhline(y=percentages[-1], linestyle=\"--\", color=\"gray\", label=\"Random Selection\")\n",
    "plt.xlabel(\"Percentage of Dataset Screened (%)\")\n",
    "plt.ylabel(\"Fraction of True Positives Retrieved\")\n",
    "plt.title(\"Enrichment Plot\")\n",
    "plt.legend()\n",
    "plt.grid(True)\n",
    "plt.show()"
   ]
  },
  {
   "cell_type": "code",
   "execution_count": 12,
   "metadata": {},
   "outputs": [
    {
     "data": {
      "text/html": [
       "<div>\n",
       "<style scoped>\n",
       "    .dataframe tbody tr th:only-of-type {\n",
       "        vertical-align: middle;\n",
       "    }\n",
       "\n",
       "    .dataframe tbody tr th {\n",
       "        vertical-align: top;\n",
       "    }\n",
       "\n",
       "    .dataframe thead th {\n",
       "        text-align: right;\n",
       "    }\n",
       "</style>\n",
       "<table border=\"1\" class=\"dataframe\">\n",
       "  <thead>\n",
       "    <tr style=\"text-align: right;\">\n",
       "      <th></th>\n",
       "      <th>smiles_x</th>\n",
       "      <th>zinc_id</th>\n",
       "      <th>mpro_dockscores</th>\n",
       "      <th>labels</th>\n",
       "      <th>pred_label</th>\n",
       "    </tr>\n",
       "  </thead>\n",
       "  <tbody>\n",
       "    <tr>\n",
       "      <th>498417443</th>\n",
       "      <td>Cn1nncc1SCc1ccc(OC(F)F)cc1</td>\n",
       "      <td>ZINCix000001Tfm0</td>\n",
       "      <td>-32.97</td>\n",
       "      <td>False</td>\n",
       "      <td>1</td>\n",
       "    </tr>\n",
       "    <tr>\n",
       "      <th>110961022</th>\n",
       "      <td>CC(C)(C)c1cccc(CNC(=O)CCc2ccncc2)n1</td>\n",
       "      <td>ZINCmA000004cXru</td>\n",
       "      <td>-33.39</td>\n",
       "      <td>False</td>\n",
       "      <td>1</td>\n",
       "    </tr>\n",
       "  </tbody>\n",
       "</table>\n",
       "</div>"
      ],
      "text/plain": [
       "                                      smiles_x           zinc_id  \\\n",
       "498417443           Cn1nncc1SCc1ccc(OC(F)F)cc1  ZINCix000001Tfm0   \n",
       "110961022  CC(C)(C)c1cccc(CNC(=O)CCc2ccncc2)n1  ZINCmA000004cXru   \n",
       "\n",
       "           mpro_dockscores  labels  pred_label  \n",
       "498417443           -32.97   False           1  \n",
       "110961022           -33.39   False           1  "
      ]
     },
     "execution_count": 12,
     "metadata": {},
     "output_type": "execute_result"
    }
   ],
   "source": [
    "merged_df.head(2)"
   ]
  },
  {
   "cell_type": "code",
   "execution_count": 11,
   "metadata": {},
   "outputs": [
    {
     "ename": "KeyError",
     "evalue": "\"['smiles_y'] not found in axis\"",
     "output_type": "error",
     "traceback": [
      "\u001b[0;31m---------------------------------------------------------------------------\u001b[0m",
      "\u001b[0;31mKeyError\u001b[0m                                  Traceback (most recent call last)",
      "Cell \u001b[0;32mIn[11], line 1\u001b[0m\n\u001b[0;32m----> 1\u001b[0m \u001b[43mmerged_df\u001b[49m\u001b[38;5;241;43m.\u001b[39;49m\u001b[43mdrop\u001b[49m\u001b[43m(\u001b[49m\u001b[43mcolumns\u001b[49m\u001b[38;5;241;43m=\u001b[39;49m\u001b[43m[\u001b[49m\u001b[38;5;124;43m'\u001b[39;49m\u001b[38;5;124;43msmiles_y\u001b[39;49m\u001b[38;5;124;43m'\u001b[39;49m\u001b[43m]\u001b[49m\u001b[43m,\u001b[49m\u001b[43m \u001b[49m\u001b[43minplace\u001b[49m\u001b[38;5;241;43m=\u001b[39;49m\u001b[38;5;28;43;01mTrue\u001b[39;49;00m\u001b[43m)\u001b[49m\n\u001b[1;32m      2\u001b[0m \u001b[38;5;66;03m# with open('/groups/cherkasvgrp/Student_backup/mkpandey/My_Projects/DDSgroups/Projects/DDS_AL_2M_2_dynamicVAL_mpro_bald_advanced_molformer_False_True/Regression/merged_df.pkl','wb') as f:\u001b[39;00m\n\u001b[1;32m      3\u001b[0m \u001b[38;5;66;03m#     pickle.dump(merged_df,f)\u001b[39;00m\n",
      "File \u001b[0;32m~/anaconda3/envs/dds/lib/python3.11/site-packages/pandas/core/frame.py:5581\u001b[0m, in \u001b[0;36mDataFrame.drop\u001b[0;34m(self, labels, axis, index, columns, level, inplace, errors)\u001b[0m\n\u001b[1;32m   5433\u001b[0m \u001b[38;5;28;01mdef\u001b[39;00m \u001b[38;5;21mdrop\u001b[39m(\n\u001b[1;32m   5434\u001b[0m     \u001b[38;5;28mself\u001b[39m,\n\u001b[1;32m   5435\u001b[0m     labels: IndexLabel \u001b[38;5;241m|\u001b[39m \u001b[38;5;28;01mNone\u001b[39;00m \u001b[38;5;241m=\u001b[39m \u001b[38;5;28;01mNone\u001b[39;00m,\n\u001b[0;32m   (...)\u001b[0m\n\u001b[1;32m   5442\u001b[0m     errors: IgnoreRaise \u001b[38;5;241m=\u001b[39m \u001b[38;5;124m\"\u001b[39m\u001b[38;5;124mraise\u001b[39m\u001b[38;5;124m\"\u001b[39m,\n\u001b[1;32m   5443\u001b[0m ) \u001b[38;5;241m-\u001b[39m\u001b[38;5;241m>\u001b[39m DataFrame \u001b[38;5;241m|\u001b[39m \u001b[38;5;28;01mNone\u001b[39;00m:\n\u001b[1;32m   5444\u001b[0m \u001b[38;5;250m    \u001b[39m\u001b[38;5;124;03m\"\"\"\u001b[39;00m\n\u001b[1;32m   5445\u001b[0m \u001b[38;5;124;03m    Drop specified labels from rows or columns.\u001b[39;00m\n\u001b[1;32m   5446\u001b[0m \n\u001b[0;32m   (...)\u001b[0m\n\u001b[1;32m   5579\u001b[0m \u001b[38;5;124;03m            weight  1.0     0.8\u001b[39;00m\n\u001b[1;32m   5580\u001b[0m \u001b[38;5;124;03m    \"\"\"\u001b[39;00m\n\u001b[0;32m-> 5581\u001b[0m     \u001b[38;5;28;01mreturn\u001b[39;00m \u001b[38;5;28;43msuper\u001b[39;49m\u001b[43m(\u001b[49m\u001b[43m)\u001b[49m\u001b[38;5;241;43m.\u001b[39;49m\u001b[43mdrop\u001b[49m\u001b[43m(\u001b[49m\n\u001b[1;32m   5582\u001b[0m \u001b[43m        \u001b[49m\u001b[43mlabels\u001b[49m\u001b[38;5;241;43m=\u001b[39;49m\u001b[43mlabels\u001b[49m\u001b[43m,\u001b[49m\n\u001b[1;32m   5583\u001b[0m \u001b[43m        \u001b[49m\u001b[43maxis\u001b[49m\u001b[38;5;241;43m=\u001b[39;49m\u001b[43maxis\u001b[49m\u001b[43m,\u001b[49m\n\u001b[1;32m   5584\u001b[0m \u001b[43m        \u001b[49m\u001b[43mindex\u001b[49m\u001b[38;5;241;43m=\u001b[39;49m\u001b[43mindex\u001b[49m\u001b[43m,\u001b[49m\n\u001b[1;32m   5585\u001b[0m \u001b[43m        \u001b[49m\u001b[43mcolumns\u001b[49m\u001b[38;5;241;43m=\u001b[39;49m\u001b[43mcolumns\u001b[49m\u001b[43m,\u001b[49m\n\u001b[1;32m   5586\u001b[0m \u001b[43m        \u001b[49m\u001b[43mlevel\u001b[49m\u001b[38;5;241;43m=\u001b[39;49m\u001b[43mlevel\u001b[49m\u001b[43m,\u001b[49m\n\u001b[1;32m   5587\u001b[0m \u001b[43m        \u001b[49m\u001b[43minplace\u001b[49m\u001b[38;5;241;43m=\u001b[39;49m\u001b[43minplace\u001b[49m\u001b[43m,\u001b[49m\n\u001b[1;32m   5588\u001b[0m \u001b[43m        \u001b[49m\u001b[43merrors\u001b[49m\u001b[38;5;241;43m=\u001b[39;49m\u001b[43merrors\u001b[49m\u001b[43m,\u001b[49m\n\u001b[1;32m   5589\u001b[0m \u001b[43m    \u001b[49m\u001b[43m)\u001b[49m\n",
      "File \u001b[0;32m~/anaconda3/envs/dds/lib/python3.11/site-packages/pandas/core/generic.py:4788\u001b[0m, in \u001b[0;36mNDFrame.drop\u001b[0;34m(self, labels, axis, index, columns, level, inplace, errors)\u001b[0m\n\u001b[1;32m   4786\u001b[0m \u001b[38;5;28;01mfor\u001b[39;00m axis, labels \u001b[38;5;129;01min\u001b[39;00m axes\u001b[38;5;241m.\u001b[39mitems():\n\u001b[1;32m   4787\u001b[0m     \u001b[38;5;28;01mif\u001b[39;00m labels \u001b[38;5;129;01mis\u001b[39;00m \u001b[38;5;129;01mnot\u001b[39;00m \u001b[38;5;28;01mNone\u001b[39;00m:\n\u001b[0;32m-> 4788\u001b[0m         obj \u001b[38;5;241m=\u001b[39m \u001b[43mobj\u001b[49m\u001b[38;5;241;43m.\u001b[39;49m\u001b[43m_drop_axis\u001b[49m\u001b[43m(\u001b[49m\u001b[43mlabels\u001b[49m\u001b[43m,\u001b[49m\u001b[43m \u001b[49m\u001b[43maxis\u001b[49m\u001b[43m,\u001b[49m\u001b[43m \u001b[49m\u001b[43mlevel\u001b[49m\u001b[38;5;241;43m=\u001b[39;49m\u001b[43mlevel\u001b[49m\u001b[43m,\u001b[49m\u001b[43m \u001b[49m\u001b[43merrors\u001b[49m\u001b[38;5;241;43m=\u001b[39;49m\u001b[43merrors\u001b[49m\u001b[43m)\u001b[49m\n\u001b[1;32m   4790\u001b[0m \u001b[38;5;28;01mif\u001b[39;00m inplace:\n\u001b[1;32m   4791\u001b[0m     \u001b[38;5;28mself\u001b[39m\u001b[38;5;241m.\u001b[39m_update_inplace(obj)\n",
      "File \u001b[0;32m~/anaconda3/envs/dds/lib/python3.11/site-packages/pandas/core/generic.py:4830\u001b[0m, in \u001b[0;36mNDFrame._drop_axis\u001b[0;34m(self, labels, axis, level, errors, only_slice)\u001b[0m\n\u001b[1;32m   4828\u001b[0m         new_axis \u001b[38;5;241m=\u001b[39m axis\u001b[38;5;241m.\u001b[39mdrop(labels, level\u001b[38;5;241m=\u001b[39mlevel, errors\u001b[38;5;241m=\u001b[39merrors)\n\u001b[1;32m   4829\u001b[0m     \u001b[38;5;28;01melse\u001b[39;00m:\n\u001b[0;32m-> 4830\u001b[0m         new_axis \u001b[38;5;241m=\u001b[39m \u001b[43maxis\u001b[49m\u001b[38;5;241;43m.\u001b[39;49m\u001b[43mdrop\u001b[49m\u001b[43m(\u001b[49m\u001b[43mlabels\u001b[49m\u001b[43m,\u001b[49m\u001b[43m \u001b[49m\u001b[43merrors\u001b[49m\u001b[38;5;241;43m=\u001b[39;49m\u001b[43merrors\u001b[49m\u001b[43m)\u001b[49m\n\u001b[1;32m   4831\u001b[0m     indexer \u001b[38;5;241m=\u001b[39m axis\u001b[38;5;241m.\u001b[39mget_indexer(new_axis)\n\u001b[1;32m   4833\u001b[0m \u001b[38;5;66;03m# Case for non-unique axis\u001b[39;00m\n\u001b[1;32m   4834\u001b[0m \u001b[38;5;28;01melse\u001b[39;00m:\n",
      "File \u001b[0;32m~/anaconda3/envs/dds/lib/python3.11/site-packages/pandas/core/indexes/base.py:7070\u001b[0m, in \u001b[0;36mIndex.drop\u001b[0;34m(self, labels, errors)\u001b[0m\n\u001b[1;32m   7068\u001b[0m \u001b[38;5;28;01mif\u001b[39;00m mask\u001b[38;5;241m.\u001b[39many():\n\u001b[1;32m   7069\u001b[0m     \u001b[38;5;28;01mif\u001b[39;00m errors \u001b[38;5;241m!=\u001b[39m \u001b[38;5;124m\"\u001b[39m\u001b[38;5;124mignore\u001b[39m\u001b[38;5;124m\"\u001b[39m:\n\u001b[0;32m-> 7070\u001b[0m         \u001b[38;5;28;01mraise\u001b[39;00m \u001b[38;5;167;01mKeyError\u001b[39;00m(\u001b[38;5;124mf\u001b[39m\u001b[38;5;124m\"\u001b[39m\u001b[38;5;132;01m{\u001b[39;00mlabels[mask]\u001b[38;5;241m.\u001b[39mtolist()\u001b[38;5;132;01m}\u001b[39;00m\u001b[38;5;124m not found in axis\u001b[39m\u001b[38;5;124m\"\u001b[39m)\n\u001b[1;32m   7071\u001b[0m     indexer \u001b[38;5;241m=\u001b[39m indexer[\u001b[38;5;241m~\u001b[39mmask]\n\u001b[1;32m   7072\u001b[0m \u001b[38;5;28;01mreturn\u001b[39;00m \u001b[38;5;28mself\u001b[39m\u001b[38;5;241m.\u001b[39mdelete(indexer)\n",
      "\u001b[0;31mKeyError\u001b[0m: \"['smiles_y'] not found in axis\""
     ]
    }
   ],
   "source": [
    "merged_df.drop(columns=['smiles_y'], inplace=True)\n",
    "# with open('/groups/cherkasvgrp/Student_backup/mkpandey/My_Projects/DDSgroups/Projects/DDS_AL_2M_2_dynamicVAL_mpro_bald_advanced_molformer_False_True/Regression/merged_df.pkl','wb') as f:\n",
    "#     pickle.dump(merged_df,f)"
   ]
  },
  {
   "cell_type": "markdown",
   "metadata": {},
   "source": [
    "# Regression by sampling 250K getting top-1% of molecules from predicted labels and plot scatter plot "
   ]
  },
  {
   "cell_type": "code",
   "execution_count": 53,
   "metadata": {},
   "outputs": [
    {
     "data": {
      "text/html": [
       "<div>\n",
       "<style scoped>\n",
       "    .dataframe tbody tr th:only-of-type {\n",
       "        vertical-align: middle;\n",
       "    }\n",
       "\n",
       "    .dataframe tbody tr th {\n",
       "        vertical-align: top;\n",
       "    }\n",
       "\n",
       "    .dataframe thead th {\n",
       "        text-align: right;\n",
       "    }\n",
       "</style>\n",
       "<table border=\"1\" class=\"dataframe\">\n",
       "  <thead>\n",
       "    <tr style=\"text-align: right;\">\n",
       "      <th></th>\n",
       "      <th>smiles_x</th>\n",
       "      <th>zinc_id</th>\n",
       "      <th>mpro_dockscores</th>\n",
       "      <th>labels</th>\n",
       "      <th>pred_label</th>\n",
       "    </tr>\n",
       "  </thead>\n",
       "  <tbody>\n",
       "    <tr>\n",
       "      <th>677402839</th>\n",
       "      <td>C[C@H]1CN(C(=O)CCn2ccnc2)C[C@@H]1Nc1ncnc2c1CCCC2</td>\n",
       "      <td>ZINCqp00000k7vOr</td>\n",
       "      <td>-41.70</td>\n",
       "      <td>True</td>\n",
       "      <td>1</td>\n",
       "    </tr>\n",
       "    <tr>\n",
       "      <th>672113497</th>\n",
       "      <td>Cc1ccc(Br)cc1C[S@@](=O)[C@H](C)c1nncn1C</td>\n",
       "      <td>ZINCjy000003qTmg</td>\n",
       "      <td>-18.26</td>\n",
       "      <td>False</td>\n",
       "      <td>1</td>\n",
       "    </tr>\n",
       "    <tr>\n",
       "      <th>500602140</th>\n",
       "      <td>CC(C)N(C(=O)C[C@@H](C)c1ccncc1)C1CCOCC1</td>\n",
       "      <td>ZINClz0000020vVC</td>\n",
       "      <td>-32.09</td>\n",
       "      <td>False</td>\n",
       "      <td>1</td>\n",
       "    </tr>\n",
       "    <tr>\n",
       "      <th>547294787</th>\n",
       "      <td>COCCN(CCc1ccncc1)C(=O)Cc1ccc(F)c(Cl)c1</td>\n",
       "      <td>ZINCoB000005aV1R</td>\n",
       "      <td>-36.12</td>\n",
       "      <td>False</td>\n",
       "      <td>1</td>\n",
       "    </tr>\n",
       "    <tr>\n",
       "      <th>39774269</th>\n",
       "      <td>Cc1cc(C(=O)N(C)CCN=c2[nH]c3ccccc3o2)[nH]c1C</td>\n",
       "      <td>ZINCnz000003FDm7</td>\n",
       "      <td>-31.03</td>\n",
       "      <td>False</td>\n",
       "      <td>1</td>\n",
       "    </tr>\n",
       "    <tr>\n",
       "      <th>...</th>\n",
       "      <td>...</td>\n",
       "      <td>...</td>\n",
       "      <td>...</td>\n",
       "      <td>...</td>\n",
       "      <td>...</td>\n",
       "    </tr>\n",
       "    <tr>\n",
       "      <th>729468009</th>\n",
       "      <td>COC1(C(F)(F)CN=c2nc3sccc3c(N)[nH]2)CCCCC1</td>\n",
       "      <td>ZINCnG000002jK1k</td>\n",
       "      <td>-21.35</td>\n",
       "      <td>False</td>\n",
       "      <td>1</td>\n",
       "    </tr>\n",
       "    <tr>\n",
       "      <th>138640235</th>\n",
       "      <td>Cc1cnc(F)c(NC(=O)NCc2ccc(=N)[nH]c2)c1</td>\n",
       "      <td>ZINCko0000063Z5l</td>\n",
       "      <td>-30.93</td>\n",
       "      <td>False</td>\n",
       "      <td>1</td>\n",
       "    </tr>\n",
       "    <tr>\n",
       "      <th>639201951</th>\n",
       "      <td>CCc1c[nH]nc1CNC(=O)c1cccc(CCl)c1</td>\n",
       "      <td>ZINCjw000003aStI</td>\n",
       "      <td>-39.39</td>\n",
       "      <td>True</td>\n",
       "      <td>1</td>\n",
       "    </tr>\n",
       "    <tr>\n",
       "      <th>351210310</th>\n",
       "      <td>O=C(N[C@H]1CCCC[C@@H]1NC(=O)[C@@H]1CCc2nnc(O)n...</td>\n",
       "      <td>ZINCsn00000gk4lM</td>\n",
       "      <td>-32.19</td>\n",
       "      <td>False</td>\n",
       "      <td>1</td>\n",
       "    </tr>\n",
       "    <tr>\n",
       "      <th>85153536</th>\n",
       "      <td>Brc1cccc(C2(CNc3nc[nH]c4ncnc3-4)CCOCC2)c1</td>\n",
       "      <td>ZINCoC000000C0Sq</td>\n",
       "      <td>-38.64</td>\n",
       "      <td>True</td>\n",
       "      <td>1</td>\n",
       "    </tr>\n",
       "  </tbody>\n",
       "</table>\n",
       "<p>50000 rows × 5 columns</p>\n",
       "</div>"
      ],
      "text/plain": [
       "                                                    smiles_x  \\\n",
       "677402839   C[C@H]1CN(C(=O)CCn2ccnc2)C[C@@H]1Nc1ncnc2c1CCCC2   \n",
       "672113497            Cc1ccc(Br)cc1C[S@@](=O)[C@H](C)c1nncn1C   \n",
       "500602140            CC(C)N(C(=O)C[C@@H](C)c1ccncc1)C1CCOCC1   \n",
       "547294787             COCCN(CCc1ccncc1)C(=O)Cc1ccc(F)c(Cl)c1   \n",
       "39774269         Cc1cc(C(=O)N(C)CCN=c2[nH]c3ccccc3o2)[nH]c1C   \n",
       "...                                                      ...   \n",
       "729468009          COC1(C(F)(F)CN=c2nc3sccc3c(N)[nH]2)CCCCC1   \n",
       "138640235              Cc1cnc(F)c(NC(=O)NCc2ccc(=N)[nH]c2)c1   \n",
       "639201951                   CCc1c[nH]nc1CNC(=O)c1cccc(CCl)c1   \n",
       "351210310  O=C(N[C@H]1CCCC[C@@H]1NC(=O)[C@@H]1CCc2nnc(O)n...   \n",
       "85153536           Brc1cccc(C2(CNc3nc[nH]c4ncnc3-4)CCOCC2)c1   \n",
       "\n",
       "                    zinc_id  mpro_dockscores  labels  pred_label  \n",
       "677402839  ZINCqp00000k7vOr           -41.70    True           1  \n",
       "672113497  ZINCjy000003qTmg           -18.26   False           1  \n",
       "500602140  ZINClz0000020vVC           -32.09   False           1  \n",
       "547294787  ZINCoB000005aV1R           -36.12   False           1  \n",
       "39774269   ZINCnz000003FDm7           -31.03   False           1  \n",
       "...                     ...              ...     ...         ...  \n",
       "729468009  ZINCnG000002jK1k           -21.35   False           1  \n",
       "138640235  ZINCko0000063Z5l           -30.93   False           1  \n",
       "639201951  ZINCjw000003aStI           -39.39    True           1  \n",
       "351210310  ZINCsn00000gk4lM           -32.19   False           1  \n",
       "85153536   ZINCoC000000C0Sq           -38.64    True           1  \n",
       "\n",
       "[50000 rows x 5 columns]"
      ]
     },
     "execution_count": 53,
     "metadata": {},
     "output_type": "execute_result"
    }
   ],
   "source": [
    "pred_active_mols_250K_df = merged_df[merged_df.pred_label==1].sample(frac=1, random_state=42).head(50000)\n",
    "pred_active_mols_250K_df"
   ]
  },
  {
   "cell_type": "code",
   "execution_count": 2,
   "metadata": {},
   "outputs": [],
   "source": [
    "# # save pred_active_mols_250K_df and create and save top1pct\n",
    "# true_top1pct_df = merged_df[merged_df.mpro_dockscores<=threshold]\n",
    "# true_top1pct_df\n",
    "# with open('/groups/cherkasvgrp/Student_backup/mkpandey/My_Projects/DDSgroups/Projects/DDS_AL_2M_2_dynamicVAL_mpro_bald_advanced_molformer_False_True/Regression/pred_active_mols_100K_df.pkl','wb') as f:\n",
    "#     pickle.dump(pred_active_mols_250K_df,f)\n",
    "\n",
    "# with open('/groups/cherkasvgrp/Student_backup/mkpandey/My_Projects/DDSgroups/Projects/DDS_AL_2M_2_dynamicVAL_mpro_bald_advanced_molformer_False_True/Regression/true_top1pct_df.pkl','wb') as f:\n",
    "#     pickle.dump(true_top1pct_df,f)\n",
    "    \n",
    "with open('/groups/cherkasvgrp/Student_backup/mkpandey/My_Projects/DDSgroups/Projects/DDS_AL_2M_2_dynamicVAL_mpro_bald_advanced_molformer_False_True/Regression/pred_active_mols_100K_df.pkl','rb') as f:\n",
    "    pred_active_mols_250K_df = pickle.load(f)\n",
    "\n",
    "with open('/groups/cherkasvgrp/Student_backup/mkpandey/My_Projects/DDSgroups/Projects/DDS_AL_2M_2_dynamicVAL_mpro_bald_advanced_molformer_False_True/Regression/true_top1pct_df.pkl','rb') as f:\n",
    "    true_top1pct_df = pickle.load(f)"
   ]
  },
  {
   "cell_type": "code",
   "execution_count": 3,
   "metadata": {},
   "outputs": [
    {
     "data": {
      "text/plain": [
       "count    100000.000000\n",
       "mean         41.319480\n",
       "std           7.644844\n",
       "min          22.000000\n",
       "25%          36.000000\n",
       "50%          41.000000\n",
       "75%          46.000000\n",
       "max          88.000000\n",
       "Name: len, dtype: float64"
      ]
     },
     "execution_count": 3,
     "metadata": {},
     "output_type": "execute_result"
    }
   ],
   "source": [
    "pred_active_mols_250K_df['len'] = pred_active_mols_250K_df.smiles_x.apply(lambda x: len(x))\n",
    "pred_active_mols_250K_df.len.describe()"
   ]
  },
  {
   "cell_type": "code",
   "execution_count": 4,
   "metadata": {},
   "outputs": [
    {
     "data": {
      "text/plain": [
       "<Axes: >"
      ]
     },
     "execution_count": 4,
     "metadata": {},
     "output_type": "execute_result"
    },
    {
     "data": {
      "image/png": "[encoded data removed]",
      "text/plain": [
       "<Figure size 640x480 with 1 Axes>"
      ]
     },
     "metadata": {},
     "output_type": "display_data"
    }
   ],
   "source": [
    "pred_active_mols_250K_df.mpro_dockscores.hist(bins=100)"
   ]
  },
  {
   "cell_type": "code",
   "execution_count": 5,
   "metadata": {},
   "outputs": [],
   "source": [
    "import os\n",
    "import torch\n",
    "import torch.nn as nn\n",
    "import torch.optim as optim\n",
    "import pandas as pd\n",
    "import numpy as np\n",
    "import matplotlib.pyplot as plt\n",
    "import seaborn as sns\n",
    "\n",
    "from transformers import AutoTokenizer, AutoModel\n",
    "from torch.utils.data import Dataset, DataLoader, random_split\n",
    "from sklearn.model_selection import train_test_split\n",
    "from sklearn.metrics import mean_absolute_error, mean_squared_error, r2_score\n",
    "from tqdm import tqdm"
   ]
  },
  {
   "cell_type": "code",
   "execution_count": 9,
   "metadata": {},
   "outputs": [],
   "source": [
    "class SMILESDataset(Dataset):\n",
    "    def __init__(self, dataframe, tokenizer, max_length=100):\n",
    "        self.data = dataframe\n",
    "        self.tokenizer = tokenizer\n",
    "        self.max_length = max_length\n",
    "\n",
    "    def __len__(self):\n",
    "        return len(self.data)\n",
    "\n",
    "    def __getitem__(self, idx):\n",
    "        row = self.data.iloc[idx]\n",
    "        smiles = row[\"smiles_x\"]  # Use the correct column containing SMILES\n",
    "        docking_score = row[\"mpro_dockscores\"]  # True docking score\n",
    "\n",
    "        encoding = self.tokenizer(\n",
    "            smiles,\n",
    "            padding=\"max_length\",\n",
    "            truncation=True,\n",
    "            max_length=self.max_length,\n",
    "            return_tensors=\"pt\",\n",
    "        )\n",
    "\n",
    "        return {\n",
    "            \"input_ids\": encoding[\"input_ids\"].squeeze(0),\n",
    "            \"attention_mask\": encoding[\"attention_mask\"].squeeze(0),\n",
    "            \"docking_score\": torch.tensor(docking_score, dtype=torch.float),\n",
    "        }\n"
   ]
  },
  {
   "cell_type": "code",
   "execution_count": 10,
   "metadata": {},
   "outputs": [],
   "source": [
    "class AdvancedMoLFormerRegression(nn.Module):\n",
    "    def __init__(self, dropout_rate=0.1, num_dense_layers=3):\n",
    "        super(AdvancedMoLFormerRegression, self).__init__()\n",
    "        smiles_model = \"ibm/MoLFormer-XL-both-10pct\"\n",
    "\n",
    "        self.tokenizer = AutoTokenizer.from_pretrained(smiles_model, trust_remote_code=True)\n",
    "        self.base_model = AutoModel.from_pretrained(smiles_model, deterministic_eval=True, trust_remote_code=True)\n",
    "\n",
    "        hidden_dim = self.base_model.config.hidden_size\n",
    "        intermediate_dim = 10 * hidden_dim\n",
    "\n",
    "        self.attention_layer = nn.Linear(hidden_dim, 1)\n",
    "\n",
    "        self.dense_layers = nn.ModuleList([\n",
    "            nn.Linear(hidden_dim + i * hidden_dim, hidden_dim) for i in range(num_dense_layers)\n",
    "        ])\n",
    "\n",
    "        concatenated_size = hidden_dim * (1 + num_dense_layers)\n",
    "        self.project_dense = nn.Linear(concatenated_size, hidden_dim)\n",
    "\n",
    "        self.multihead_attention = nn.MultiheadAttention(\n",
    "            embed_dim=hidden_dim, num_heads=8, dropout=dropout_rate, batch_first=True\n",
    "        )\n",
    "\n",
    "        self.residual_blocks = nn.Sequential(\n",
    "            self._create_residual_block(hidden_dim, intermediate_dim, dropout_rate),\n",
    "            self._create_residual_block(hidden_dim, intermediate_dim, dropout_rate),\n",
    "            self._create_residual_block(hidden_dim, intermediate_dim, dropout_rate),\n",
    "            self._create_residual_block(hidden_dim, intermediate_dim, dropout_rate),\n",
    "            self._create_residual_block(hidden_dim, intermediate_dim, dropout_rate),\n",
    "            self._create_residual_block(hidden_dim, intermediate_dim, dropout_rate),\n",
    "        )\n",
    "\n",
    "        self.fc1 = nn.Linear(hidden_dim, intermediate_dim)\n",
    "        self.norm1 = nn.LayerNorm(intermediate_dim)\n",
    "        self.fc2 = nn.Linear(intermediate_dim, hidden_dim)\n",
    "        self.norm2 = nn.LayerNorm(hidden_dim)\n",
    "\n",
    "        self.dropout = nn.Dropout(p=dropout_rate)\n",
    "        self.output_layer = nn.Linear(hidden_dim, 1)  # Single output for regression\n",
    "\n",
    "    def _create_residual_block(self, input_dim, output_dim, dropout_rate):\n",
    "        return nn.Sequential(\n",
    "            nn.Linear(input_dim, output_dim),\n",
    "            nn.LayerNorm(output_dim),\n",
    "            nn.PReLU(),\n",
    "            nn.Dropout(p=dropout_rate),\n",
    "            nn.Linear(output_dim, input_dim),\n",
    "            nn.LayerNorm(input_dim),\n",
    "            nn.PReLU(),\n",
    "        )\n",
    "\n",
    "    def forward(self, input_ids, attention_mask):\n",
    "        base_outputs = self.base_model(input_ids, attention_mask=attention_mask).last_hidden_state\n",
    "        attention_weights = torch.softmax(self.attention_layer(base_outputs), dim=1)\n",
    "        pooled_output = torch.sum(attention_weights * base_outputs, dim=1)\n",
    "\n",
    "        dense_out = pooled_output\n",
    "        for dense_layer in self.dense_layers:\n",
    "            dense_out = torch.cat([dense_out, dense_layer(dense_out)], dim=1)\n",
    "\n",
    "        dense_out = self.project_dense(dense_out)\n",
    "\n",
    "        attention_out, _ = self.multihead_attention(\n",
    "            dense_out.unsqueeze(1), dense_out.unsqueeze(1), dense_out.unsqueeze(1)\n",
    "        )\n",
    "\n",
    "        attention_out = attention_out.squeeze(1)\n",
    "        x = self.residual_blocks(attention_out)\n",
    "\n",
    "        x = self.norm1(torch.relu(self.fc1(x)))\n",
    "        x = self.norm2(torch.relu(self.fc2(x)))\n",
    "\n",
    "        x = self.dropout(x)\n",
    "        regression_output = self.output_layer(x)\n",
    "\n",
    "        return regression_output.squeeze()\n"
   ]
  },
  {
   "cell_type": "code",
   "execution_count": 14,
   "metadata": {},
   "outputs": [],
   "source": [
    "class OverparamMoLFormerRegression(nn.Module):\n",
    "    def __init__(self, dropout_rate=0.1, num_dense_layers=6, num_residual_blocks=10, num_attention_layers=3):\n",
    "        super(OverparamMoLFormerRegression, self).__init__()\n",
    "        smiles_model = \"ibm/MoLFormer-XL-both-10pct\"\n",
    "\n",
    "        self.tokenizer = AutoTokenizer.from_pretrained(smiles_model, trust_remote_code=True)\n",
    "        self.base_model = AutoModel.from_pretrained(smiles_model, deterministic_eval=True, trust_remote_code=True)\n",
    "\n",
    "        hidden_dim = self.base_model.config.hidden_size\n",
    "        intermediate_dim = 20 * hidden_dim  # Increased intermediate layer size\n",
    "\n",
    "        # Multi-layer attention pooling\n",
    "        self.attention_layers = nn.ModuleList([\n",
    "            nn.Linear(hidden_dim, 1) for _ in range(num_attention_layers)\n",
    "        ])\n",
    "\n",
    "        # Deep Dense Layers (Overparameterization)\n",
    "        self.dense_layers = nn.ModuleList([\n",
    "            nn.Linear(hidden_dim*num_attention_layers + i * hidden_dim, hidden_dim) for i in range(num_dense_layers)\n",
    "        ])\n",
    "\n",
    "        concatenated_size = hidden_dim * num_attention_layers + (hidden_dim * num_dense_layers)\n",
    "        self.project_dense = nn.Linear(concatenated_size, hidden_dim)\n",
    "\n",
    "        # Multihead Attention Layers (Stacked for overparameterization)\n",
    "        self.multihead_attention_layers = nn.ModuleList([\n",
    "            nn.MultiheadAttention(embed_dim=hidden_dim, num_heads=16, dropout=dropout_rate, batch_first=True)\n",
    "            for _ in range(num_attention_layers)\n",
    "        ])\n",
    "\n",
    "        # Deep Residual Blocks\n",
    "        self.residual_blocks = nn.Sequential(*[\n",
    "            self._create_residual_block(hidden_dim, intermediate_dim, dropout_rate)\n",
    "            for _ in range(num_residual_blocks)\n",
    "        ])\n",
    "\n",
    "        # Fully connected overparameterized layers\n",
    "        self.fc1 = nn.Linear(hidden_dim, intermediate_dim)\n",
    "        self.norm1 = nn.LayerNorm(intermediate_dim)\n",
    "        self.fc2 = nn.Linear(intermediate_dim, intermediate_dim // 2)\n",
    "        self.norm2 = nn.LayerNorm(intermediate_dim // 2)\n",
    "        self.fc3 = nn.Linear(intermediate_dim // 2, hidden_dim)  # Additional FC layer\n",
    "\n",
    "        self.dropout = nn.Dropout(p=dropout_rate)\n",
    "        self.output_layer = nn.Linear(hidden_dim, 1)  # Regression output\n",
    "\n",
    "    def _create_residual_block(self, input_dim, output_dim, dropout_rate):\n",
    "        \"\"\"Creates a deep residual block with overparameterization\"\"\"\n",
    "        return nn.Sequential(\n",
    "            nn.Linear(input_dim, output_dim),\n",
    "            nn.LayerNorm(output_dim),\n",
    "            nn.PReLU(),\n",
    "            nn.Dropout(p=dropout_rate),\n",
    "            nn.Linear(output_dim, input_dim),\n",
    "            nn.LayerNorm(input_dim),\n",
    "            nn.PReLU(),\n",
    "        )\n",
    "\n",
    "    def forward(self, input_ids, attention_mask):\n",
    "        base_outputs = self.base_model(input_ids, attention_mask=attention_mask).last_hidden_state\n",
    "\n",
    "        # Multi-layer attention pooling\n",
    "        # pooled_output = base_outputs\n",
    "        pooled_outputs = []\n",
    "        for i, attn_layer in enumerate(self.attention_layers):\n",
    "            # print('tryng attn layer base output', base_outputs.shape)\n",
    "            # print('attn layer opt ', attn_layer(base_outputs).shape)\n",
    "            # print(i)\n",
    "            attention_weights = torch.softmax(attn_layer(base_outputs), dim=1)\n",
    "            pooled_output = torch.sum(attention_weights * base_outputs, dim=1)\n",
    "            pooled_outputs.append(pooled_output)\n",
    "            # print('pooled_output', pooled_output.shape)\n",
    "\n",
    "        \n",
    "        # Concatenate pooled outputs across all attention layers\n",
    "        pooled_output = torch.cat(pooled_outputs, dim=1)  # Ensures shape consistency\n",
    "\n",
    "        # Deep dense connections\n",
    "        dense_out = pooled_output\n",
    "        # print('dense out shape ',dense_out.shape)\n",
    "        for dense_layer in self.dense_layers:\n",
    "            dense_out = torch.cat([dense_out, dense_layer(dense_out)], dim=1)\n",
    "            # print('dense out ', dense_out.shape)\n",
    "\n",
    "        dense_out = self.project_dense(dense_out)\n",
    "\n",
    "        # Stacked Multihead Attention\n",
    "        attention_out = dense_out.unsqueeze(1)\n",
    "        for attn_layer in self.multihead_attention_layers:\n",
    "            attention_out, _ = attn_layer(attention_out, attention_out, attention_out)\n",
    "\n",
    "        attention_out = attention_out.squeeze(1)\n",
    "\n",
    "        # Deep Residual Blocks\n",
    "        x = self.residual_blocks(attention_out)\n",
    "        # print('x ', x.shape)\n",
    "        # Overparameterized Fully Connected Layers\n",
    "        x = self.norm1(torch.relu(self.fc1(x)))\n",
    "        x = self.norm2(torch.relu(self.fc2(x)))\n",
    "        x = torch.relu(self.fc3(x))  # Extra FC layer\n",
    "\n",
    "        x = self.dropout(x)\n",
    "        regression_output = self.output_layer(x)\n",
    "\n",
    "        return regression_output.squeeze()"
   ]
  },
  {
   "cell_type": "code",
   "execution_count": 15,
   "metadata": {},
   "outputs": [],
   "source": [
    "# Load tokenizer\n",
    "tokenizer = AutoTokenizer.from_pretrained(\"ibm/MoLFormer-XL-both-10pct\", trust_remote_code=True)\n",
    "\n",
    "# Split dataset into train (80%), validation (10%), and test (10%)\n",
    "train_df, temp_df = train_test_split(pred_active_mols_250K_df, test_size=0.2, random_state=42)  # 80% train\n",
    "val_df, test_df = train_test_split(temp_df, test_size=0.5, random_state=42)  # 10% val, 10% test\n",
    "\n",
    "# Create dataset objects\n",
    "train_dataset = SMILESDataset(train_df, tokenizer)\n",
    "val_dataset = SMILESDataset(val_df, tokenizer)\n",
    "test_dataset = SMILESDataset(test_df, tokenizer)\n",
    "\n",
    "# Create data loaders\n",
    "train_loader = DataLoader(train_dataset, batch_size=32, shuffle=True)\n",
    "val_loader = DataLoader(val_dataset, batch_size=32, shuffle=False)\n",
    "test_loader = DataLoader(test_dataset, batch_size=128, shuffle=False)"
   ]
  },
  {
   "cell_type": "code",
   "execution_count": null,
   "metadata": {},
   "outputs": [
    {
     "name": "stderr",
     "output_type": "stream",
     "text": [
      "Training Epoch 1/50: 100%|██████████| 2500/2500 [06:09<00:00,  6.76it/s]\n"
     ]
    },
    {
     "name": "stdout",
     "output_type": "stream",
     "text": [
      "Epoch 1: Train Loss = 45.5024, Val Loss = 35.3226\n",
      "New best validation loss: 35.3226\n"
     ]
    },
    {
     "name": "stderr",
     "output_type": "stream",
     "text": [
      "Training Epoch 2/50:   0%|          | 0/2500 [00:00<?, ?it/s]\n"
     ]
    },
    {
     "ename": "OutOfMemoryError",
     "evalue": "CUDA out of memory. Tried to allocate 46.00 MiB. GPU 0 has a total capacity of 39.38 GiB of which 39.81 MiB is free. Process 2159305 has 20.79 GiB memory in use. Including non-PyTorch memory, this process has 18.54 GiB memory in use. Of the allocated memory 17.43 GiB is allocated by PyTorch, and 596.51 MiB is reserved by PyTorch but unallocated. If reserved but unallocated memory is large try setting PYTORCH_CUDA_ALLOC_CONF=expandable_segments:True to avoid fragmentation.  See documentation for Memory Management  (https://pytorch.org/docs/stable/notes/cuda.html#environment-variables)",
     "output_type": "error",
     "traceback": [
      "\u001b[0;31m---------------------------------------------------------------------------\u001b[0m",
      "\u001b[0;31mOutOfMemoryError\u001b[0m                          Traceback (most recent call last)",
      "Cell \u001b[0;32mIn[16], line 73\u001b[0m\n\u001b[1;32m     66\u001b[0m     \u001b[38;5;28;01mreturn\u001b[39;00m model\n\u001b[1;32m     68\u001b[0m         \u001b[38;5;66;03m# if val_loss < best_val_loss:\u001b[39;00m\n\u001b[1;32m     69\u001b[0m         \u001b[38;5;66;03m#     best_val_loss = val_loss\u001b[39;00m\n\u001b[1;32m     70\u001b[0m         \u001b[38;5;66;03m#     torch.save(model.state_dict(), \"best_molformer_regression.pt\")\u001b[39;00m\n\u001b[1;32m     71\u001b[0m         \u001b[38;5;66;03m#     print(\"Best model saved.\")\u001b[39;00m\n\u001b[0;32m---> 73\u001b[0m model \u001b[38;5;241m=\u001b[39m \u001b[43mtrain_molformer_regression\u001b[49m\u001b[43m(\u001b[49m\u001b[43mOverparamMoLFormerRegression\u001b[49m\u001b[43m(\u001b[49m\u001b[43mnum_dense_layers\u001b[49m\u001b[38;5;241;43m=\u001b[39;49m\u001b[38;5;241;43m10\u001b[39;49m\u001b[43m,\u001b[49m\u001b[43m \u001b[49m\u001b[43mdropout_rate\u001b[49m\u001b[38;5;241;43m=\u001b[39;49m\u001b[38;5;241;43m0.5\u001b[39;49m\u001b[43m)\u001b[49m\u001b[43m,\u001b[49m\u001b[43m \u001b[49m\u001b[43mtrain_loader\u001b[49m\u001b[43m,\u001b[49m\u001b[43m \u001b[49m\u001b[43mval_loader\u001b[49m\u001b[43m,\u001b[49m\u001b[43m \u001b[49m\u001b[43mlr\u001b[49m\u001b[43m \u001b[49m\u001b[38;5;241;43m=\u001b[39;49m\u001b[43m \u001b[49m\u001b[38;5;241;43m1e-3\u001b[39;49m\u001b[43m,\u001b[49m\u001b[43m \u001b[49m\u001b[43mpatience\u001b[49m\u001b[38;5;241;43m=\u001b[39;49m\u001b[38;5;241;43m3\u001b[39;49m\u001b[43m)\u001b[49m\n",
      "Cell \u001b[0;32mIn[16], line 29\u001b[0m, in \u001b[0;36mtrain_molformer_regression\u001b[0;34m(model, train_loader, val_loader, num_epochs, lr, patience)\u001b[0m\n\u001b[1;32m     26\u001b[0m     loss \u001b[38;5;241m=\u001b[39m criterion(outputs, docking_scores)\n\u001b[1;32m     28\u001b[0m     loss\u001b[38;5;241m.\u001b[39mbackward()\n\u001b[0;32m---> 29\u001b[0m     \u001b[43moptimizer\u001b[49m\u001b[38;5;241;43m.\u001b[39;49m\u001b[43mstep\u001b[49m\u001b[43m(\u001b[49m\u001b[43m)\u001b[49m\n\u001b[1;32m     30\u001b[0m     train_loss \u001b[38;5;241m+\u001b[39m\u001b[38;5;241m=\u001b[39m loss\u001b[38;5;241m.\u001b[39mitem()\n\u001b[1;32m     32\u001b[0m train_loss \u001b[38;5;241m/\u001b[39m\u001b[38;5;241m=\u001b[39m \u001b[38;5;28mlen\u001b[39m(train_loader)\n",
      "File \u001b[0;32m~/anaconda3/envs/dds/lib/python3.11/site-packages/torch/optim/lr_scheduler.py:75\u001b[0m, in \u001b[0;36mLRScheduler.__init__.<locals>.with_counter.<locals>.wrapper\u001b[0;34m(*args, **kwargs)\u001b[0m\n\u001b[1;32m     73\u001b[0m instance\u001b[38;5;241m.\u001b[39m_step_count \u001b[38;5;241m+\u001b[39m\u001b[38;5;241m=\u001b[39m \u001b[38;5;241m1\u001b[39m\n\u001b[1;32m     74\u001b[0m wrapped \u001b[38;5;241m=\u001b[39m func\u001b[38;5;241m.\u001b[39m\u001b[38;5;21m__get__\u001b[39m(instance, \u001b[38;5;28mcls\u001b[39m)\n\u001b[0;32m---> 75\u001b[0m \u001b[38;5;28;01mreturn\u001b[39;00m \u001b[43mwrapped\u001b[49m\u001b[43m(\u001b[49m\u001b[38;5;241;43m*\u001b[39;49m\u001b[43margs\u001b[49m\u001b[43m,\u001b[49m\u001b[43m \u001b[49m\u001b[38;5;241;43m*\u001b[39;49m\u001b[38;5;241;43m*\u001b[39;49m\u001b[43mkwargs\u001b[49m\u001b[43m)\u001b[49m\n",
      "File \u001b[0;32m~/anaconda3/envs/dds/lib/python3.11/site-packages/torch/optim/optimizer.py:385\u001b[0m, in \u001b[0;36mOptimizer.profile_hook_step.<locals>.wrapper\u001b[0;34m(*args, **kwargs)\u001b[0m\n\u001b[1;32m    380\u001b[0m         \u001b[38;5;28;01melse\u001b[39;00m:\n\u001b[1;32m    381\u001b[0m             \u001b[38;5;28;01mraise\u001b[39;00m \u001b[38;5;167;01mRuntimeError\u001b[39;00m(\n\u001b[1;32m    382\u001b[0m                 \u001b[38;5;124mf\u001b[39m\u001b[38;5;124m\"\u001b[39m\u001b[38;5;132;01m{\u001b[39;00mfunc\u001b[38;5;132;01m}\u001b[39;00m\u001b[38;5;124m must return None or a tuple of (new_args, new_kwargs), but got \u001b[39m\u001b[38;5;132;01m{\u001b[39;00mresult\u001b[38;5;132;01m}\u001b[39;00m\u001b[38;5;124m.\u001b[39m\u001b[38;5;124m\"\u001b[39m\n\u001b[1;32m    383\u001b[0m             )\n\u001b[0;32m--> 385\u001b[0m out \u001b[38;5;241m=\u001b[39m \u001b[43mfunc\u001b[49m\u001b[43m(\u001b[49m\u001b[38;5;241;43m*\u001b[39;49m\u001b[43margs\u001b[49m\u001b[43m,\u001b[49m\u001b[43m \u001b[49m\u001b[38;5;241;43m*\u001b[39;49m\u001b[38;5;241;43m*\u001b[39;49m\u001b[43mkwargs\u001b[49m\u001b[43m)\u001b[49m\n\u001b[1;32m    386\u001b[0m \u001b[38;5;28mself\u001b[39m\u001b[38;5;241m.\u001b[39m_optimizer_step_code()\n\u001b[1;32m    388\u001b[0m \u001b[38;5;66;03m# call optimizer step post hooks\u001b[39;00m\n",
      "File \u001b[0;32m~/anaconda3/envs/dds/lib/python3.11/site-packages/torch/optim/optimizer.py:76\u001b[0m, in \u001b[0;36m_use_grad_for_differentiable.<locals>._use_grad\u001b[0;34m(self, *args, **kwargs)\u001b[0m\n\u001b[1;32m     74\u001b[0m     torch\u001b[38;5;241m.\u001b[39mset_grad_enabled(\u001b[38;5;28mself\u001b[39m\u001b[38;5;241m.\u001b[39mdefaults[\u001b[38;5;124m'\u001b[39m\u001b[38;5;124mdifferentiable\u001b[39m\u001b[38;5;124m'\u001b[39m])\n\u001b[1;32m     75\u001b[0m     torch\u001b[38;5;241m.\u001b[39m_dynamo\u001b[38;5;241m.\u001b[39mgraph_break()\n\u001b[0;32m---> 76\u001b[0m     ret \u001b[38;5;241m=\u001b[39m \u001b[43mfunc\u001b[49m\u001b[43m(\u001b[49m\u001b[38;5;28;43mself\u001b[39;49m\u001b[43m,\u001b[49m\u001b[43m \u001b[49m\u001b[38;5;241;43m*\u001b[39;49m\u001b[43margs\u001b[49m\u001b[43m,\u001b[49m\u001b[43m \u001b[49m\u001b[38;5;241;43m*\u001b[39;49m\u001b[38;5;241;43m*\u001b[39;49m\u001b[43mkwargs\u001b[49m\u001b[43m)\u001b[49m\n\u001b[1;32m     77\u001b[0m \u001b[38;5;28;01mfinally\u001b[39;00m:\n\u001b[1;32m     78\u001b[0m     torch\u001b[38;5;241m.\u001b[39m_dynamo\u001b[38;5;241m.\u001b[39mgraph_break()\n",
      "File \u001b[0;32m~/anaconda3/envs/dds/lib/python3.11/site-packages/torch/optim/adamw.py:187\u001b[0m, in \u001b[0;36mAdamW.step\u001b[0;34m(self, closure)\u001b[0m\n\u001b[1;32m    174\u001b[0m     beta1, beta2 \u001b[38;5;241m=\u001b[39m group[\u001b[38;5;124m\"\u001b[39m\u001b[38;5;124mbetas\u001b[39m\u001b[38;5;124m\"\u001b[39m]\n\u001b[1;32m    176\u001b[0m     has_complex \u001b[38;5;241m=\u001b[39m \u001b[38;5;28mself\u001b[39m\u001b[38;5;241m.\u001b[39m_init_group(\n\u001b[1;32m    177\u001b[0m         group,\n\u001b[1;32m    178\u001b[0m         params_with_grad,\n\u001b[0;32m   (...)\u001b[0m\n\u001b[1;32m    184\u001b[0m         state_steps,\n\u001b[1;32m    185\u001b[0m     )\n\u001b[0;32m--> 187\u001b[0m     \u001b[43madamw\u001b[49m\u001b[43m(\u001b[49m\n\u001b[1;32m    188\u001b[0m \u001b[43m        \u001b[49m\u001b[43mparams_with_grad\u001b[49m\u001b[43m,\u001b[49m\n\u001b[1;32m    189\u001b[0m \u001b[43m        \u001b[49m\u001b[43mgrads\u001b[49m\u001b[43m,\u001b[49m\n\u001b[1;32m    190\u001b[0m \u001b[43m        \u001b[49m\u001b[43mexp_avgs\u001b[49m\u001b[43m,\u001b[49m\n\u001b[1;32m    191\u001b[0m \u001b[43m        \u001b[49m\u001b[43mexp_avg_sqs\u001b[49m\u001b[43m,\u001b[49m\n\u001b[1;32m    192\u001b[0m \u001b[43m        \u001b[49m\u001b[43mmax_exp_avg_sqs\u001b[49m\u001b[43m,\u001b[49m\n\u001b[1;32m    193\u001b[0m \u001b[43m        \u001b[49m\u001b[43mstate_steps\u001b[49m\u001b[43m,\u001b[49m\n\u001b[1;32m    194\u001b[0m \u001b[43m        \u001b[49m\u001b[43mamsgrad\u001b[49m\u001b[38;5;241;43m=\u001b[39;49m\u001b[43mamsgrad\u001b[49m\u001b[43m,\u001b[49m\n\u001b[1;32m    195\u001b[0m \u001b[43m        \u001b[49m\u001b[43mbeta1\u001b[49m\u001b[38;5;241;43m=\u001b[39;49m\u001b[43mbeta1\u001b[49m\u001b[43m,\u001b[49m\n\u001b[1;32m    196\u001b[0m \u001b[43m        \u001b[49m\u001b[43mbeta2\u001b[49m\u001b[38;5;241;43m=\u001b[39;49m\u001b[43mbeta2\u001b[49m\u001b[43m,\u001b[49m\n\u001b[1;32m    197\u001b[0m \u001b[43m        \u001b[49m\u001b[43mlr\u001b[49m\u001b[38;5;241;43m=\u001b[39;49m\u001b[43mgroup\u001b[49m\u001b[43m[\u001b[49m\u001b[38;5;124;43m\"\u001b[39;49m\u001b[38;5;124;43mlr\u001b[39;49m\u001b[38;5;124;43m\"\u001b[39;49m\u001b[43m]\u001b[49m\u001b[43m,\u001b[49m\n\u001b[1;32m    198\u001b[0m \u001b[43m        \u001b[49m\u001b[43mweight_decay\u001b[49m\u001b[38;5;241;43m=\u001b[39;49m\u001b[43mgroup\u001b[49m\u001b[43m[\u001b[49m\u001b[38;5;124;43m\"\u001b[39;49m\u001b[38;5;124;43mweight_decay\u001b[39;49m\u001b[38;5;124;43m\"\u001b[39;49m\u001b[43m]\u001b[49m\u001b[43m,\u001b[49m\n\u001b[1;32m    199\u001b[0m \u001b[43m        \u001b[49m\u001b[43meps\u001b[49m\u001b[38;5;241;43m=\u001b[39;49m\u001b[43mgroup\u001b[49m\u001b[43m[\u001b[49m\u001b[38;5;124;43m\"\u001b[39;49m\u001b[38;5;124;43meps\u001b[39;49m\u001b[38;5;124;43m\"\u001b[39;49m\u001b[43m]\u001b[49m\u001b[43m,\u001b[49m\n\u001b[1;32m    200\u001b[0m \u001b[43m        \u001b[49m\u001b[43mmaximize\u001b[49m\u001b[38;5;241;43m=\u001b[39;49m\u001b[43mgroup\u001b[49m\u001b[43m[\u001b[49m\u001b[38;5;124;43m\"\u001b[39;49m\u001b[38;5;124;43mmaximize\u001b[39;49m\u001b[38;5;124;43m\"\u001b[39;49m\u001b[43m]\u001b[49m\u001b[43m,\u001b[49m\n\u001b[1;32m    201\u001b[0m \u001b[43m        \u001b[49m\u001b[43mforeach\u001b[49m\u001b[38;5;241;43m=\u001b[39;49m\u001b[43mgroup\u001b[49m\u001b[43m[\u001b[49m\u001b[38;5;124;43m\"\u001b[39;49m\u001b[38;5;124;43mforeach\u001b[39;49m\u001b[38;5;124;43m\"\u001b[39;49m\u001b[43m]\u001b[49m\u001b[43m,\u001b[49m\n\u001b[1;32m    202\u001b[0m \u001b[43m        \u001b[49m\u001b[43mcapturable\u001b[49m\u001b[38;5;241;43m=\u001b[39;49m\u001b[43mgroup\u001b[49m\u001b[43m[\u001b[49m\u001b[38;5;124;43m\"\u001b[39;49m\u001b[38;5;124;43mcapturable\u001b[39;49m\u001b[38;5;124;43m\"\u001b[39;49m\u001b[43m]\u001b[49m\u001b[43m,\u001b[49m\n\u001b[1;32m    203\u001b[0m \u001b[43m        \u001b[49m\u001b[43mdifferentiable\u001b[49m\u001b[38;5;241;43m=\u001b[39;49m\u001b[43mgroup\u001b[49m\u001b[43m[\u001b[49m\u001b[38;5;124;43m\"\u001b[39;49m\u001b[38;5;124;43mdifferentiable\u001b[39;49m\u001b[38;5;124;43m\"\u001b[39;49m\u001b[43m]\u001b[49m\u001b[43m,\u001b[49m\n\u001b[1;32m    204\u001b[0m \u001b[43m        \u001b[49m\u001b[43mfused\u001b[49m\u001b[38;5;241;43m=\u001b[39;49m\u001b[43mgroup\u001b[49m\u001b[43m[\u001b[49m\u001b[38;5;124;43m\"\u001b[39;49m\u001b[38;5;124;43mfused\u001b[39;49m\u001b[38;5;124;43m\"\u001b[39;49m\u001b[43m]\u001b[49m\u001b[43m,\u001b[49m\n\u001b[1;32m    205\u001b[0m \u001b[43m        \u001b[49m\u001b[43mgrad_scale\u001b[49m\u001b[38;5;241;43m=\u001b[39;49m\u001b[38;5;28;43mgetattr\u001b[39;49m\u001b[43m(\u001b[49m\u001b[38;5;28;43mself\u001b[39;49m\u001b[43m,\u001b[49m\u001b[43m \u001b[49m\u001b[38;5;124;43m\"\u001b[39;49m\u001b[38;5;124;43mgrad_scale\u001b[39;49m\u001b[38;5;124;43m\"\u001b[39;49m\u001b[43m,\u001b[49m\u001b[43m \u001b[49m\u001b[38;5;28;43;01mNone\u001b[39;49;00m\u001b[43m)\u001b[49m\u001b[43m,\u001b[49m\n\u001b[1;32m    206\u001b[0m \u001b[43m        \u001b[49m\u001b[43mfound_inf\u001b[49m\u001b[38;5;241;43m=\u001b[39;49m\u001b[38;5;28;43mgetattr\u001b[39;49m\u001b[43m(\u001b[49m\u001b[38;5;28;43mself\u001b[39;49m\u001b[43m,\u001b[49m\u001b[43m \u001b[49m\u001b[38;5;124;43m\"\u001b[39;49m\u001b[38;5;124;43mfound_inf\u001b[39;49m\u001b[38;5;124;43m\"\u001b[39;49m\u001b[43m,\u001b[49m\u001b[43m \u001b[49m\u001b[38;5;28;43;01mNone\u001b[39;49;00m\u001b[43m)\u001b[49m\u001b[43m,\u001b[49m\n\u001b[1;32m    207\u001b[0m \u001b[43m        \u001b[49m\u001b[43mhas_complex\u001b[49m\u001b[38;5;241;43m=\u001b[39;49m\u001b[43mhas_complex\u001b[49m\u001b[43m,\u001b[49m\n\u001b[1;32m    208\u001b[0m \u001b[43m    \u001b[49m\u001b[43m)\u001b[49m\n\u001b[1;32m    210\u001b[0m \u001b[38;5;28;01mreturn\u001b[39;00m loss\n",
      "File \u001b[0;32m~/anaconda3/envs/dds/lib/python3.11/site-packages/torch/optim/adamw.py:339\u001b[0m, in \u001b[0;36madamw\u001b[0;34m(params, grads, exp_avgs, exp_avg_sqs, max_exp_avg_sqs, state_steps, foreach, capturable, differentiable, fused, grad_scale, found_inf, has_complex, amsgrad, beta1, beta2, lr, weight_decay, eps, maximize)\u001b[0m\n\u001b[1;32m    336\u001b[0m \u001b[38;5;28;01melse\u001b[39;00m:\n\u001b[1;32m    337\u001b[0m     func \u001b[38;5;241m=\u001b[39m _single_tensor_adamw\n\u001b[0;32m--> 339\u001b[0m \u001b[43mfunc\u001b[49m\u001b[43m(\u001b[49m\n\u001b[1;32m    340\u001b[0m \u001b[43m    \u001b[49m\u001b[43mparams\u001b[49m\u001b[43m,\u001b[49m\n\u001b[1;32m    341\u001b[0m \u001b[43m    \u001b[49m\u001b[43mgrads\u001b[49m\u001b[43m,\u001b[49m\n\u001b[1;32m    342\u001b[0m \u001b[43m    \u001b[49m\u001b[43mexp_avgs\u001b[49m\u001b[43m,\u001b[49m\n\u001b[1;32m    343\u001b[0m \u001b[43m    \u001b[49m\u001b[43mexp_avg_sqs\u001b[49m\u001b[43m,\u001b[49m\n\u001b[1;32m    344\u001b[0m \u001b[43m    \u001b[49m\u001b[43mmax_exp_avg_sqs\u001b[49m\u001b[43m,\u001b[49m\n\u001b[1;32m    345\u001b[0m \u001b[43m    \u001b[49m\u001b[43mstate_steps\u001b[49m\u001b[43m,\u001b[49m\n\u001b[1;32m    346\u001b[0m \u001b[43m    \u001b[49m\u001b[43mamsgrad\u001b[49m\u001b[38;5;241;43m=\u001b[39;49m\u001b[43mamsgrad\u001b[49m\u001b[43m,\u001b[49m\n\u001b[1;32m    347\u001b[0m \u001b[43m    \u001b[49m\u001b[43mbeta1\u001b[49m\u001b[38;5;241;43m=\u001b[39;49m\u001b[43mbeta1\u001b[49m\u001b[43m,\u001b[49m\n\u001b[1;32m    348\u001b[0m \u001b[43m    \u001b[49m\u001b[43mbeta2\u001b[49m\u001b[38;5;241;43m=\u001b[39;49m\u001b[43mbeta2\u001b[49m\u001b[43m,\u001b[49m\n\u001b[1;32m    349\u001b[0m \u001b[43m    \u001b[49m\u001b[43mlr\u001b[49m\u001b[38;5;241;43m=\u001b[39;49m\u001b[43mlr\u001b[49m\u001b[43m,\u001b[49m\n\u001b[1;32m    350\u001b[0m \u001b[43m    \u001b[49m\u001b[43mweight_decay\u001b[49m\u001b[38;5;241;43m=\u001b[39;49m\u001b[43mweight_decay\u001b[49m\u001b[43m,\u001b[49m\n\u001b[1;32m    351\u001b[0m \u001b[43m    \u001b[49m\u001b[43meps\u001b[49m\u001b[38;5;241;43m=\u001b[39;49m\u001b[43meps\u001b[49m\u001b[43m,\u001b[49m\n\u001b[1;32m    352\u001b[0m \u001b[43m    \u001b[49m\u001b[43mmaximize\u001b[49m\u001b[38;5;241;43m=\u001b[39;49m\u001b[43mmaximize\u001b[49m\u001b[43m,\u001b[49m\n\u001b[1;32m    353\u001b[0m \u001b[43m    \u001b[49m\u001b[43mcapturable\u001b[49m\u001b[38;5;241;43m=\u001b[39;49m\u001b[43mcapturable\u001b[49m\u001b[43m,\u001b[49m\n\u001b[1;32m    354\u001b[0m \u001b[43m    \u001b[49m\u001b[43mdifferentiable\u001b[49m\u001b[38;5;241;43m=\u001b[39;49m\u001b[43mdifferentiable\u001b[49m\u001b[43m,\u001b[49m\n\u001b[1;32m    355\u001b[0m \u001b[43m    \u001b[49m\u001b[43mgrad_scale\u001b[49m\u001b[38;5;241;43m=\u001b[39;49m\u001b[43mgrad_scale\u001b[49m\u001b[43m,\u001b[49m\n\u001b[1;32m    356\u001b[0m \u001b[43m    \u001b[49m\u001b[43mfound_inf\u001b[49m\u001b[38;5;241;43m=\u001b[39;49m\u001b[43mfound_inf\u001b[49m\u001b[43m,\u001b[49m\n\u001b[1;32m    357\u001b[0m \u001b[43m    \u001b[49m\u001b[43mhas_complex\u001b[49m\u001b[38;5;241;43m=\u001b[39;49m\u001b[43mhas_complex\u001b[49m\u001b[43m,\u001b[49m\n\u001b[1;32m    358\u001b[0m \u001b[43m\u001b[49m\u001b[43m)\u001b[49m\n",
      "File \u001b[0;32m~/anaconda3/envs/dds/lib/python3.11/site-packages/torch/optim/adamw.py:608\u001b[0m, in \u001b[0;36m_multi_tensor_adamw\u001b[0;34m(params, grads, exp_avgs, exp_avg_sqs, max_exp_avg_sqs, state_steps, grad_scale, found_inf, amsgrad, beta1, beta2, lr, weight_decay, eps, maximize, capturable, differentiable, has_complex)\u001b[0m\n\u001b[1;32m    606\u001b[0m     exp_avg_sq_sqrt \u001b[38;5;241m=\u001b[39m torch\u001b[38;5;241m.\u001b[39m_foreach_sqrt(device_max_exp_avg_sqs)\n\u001b[1;32m    607\u001b[0m \u001b[38;5;28;01melse\u001b[39;00m:\n\u001b[0;32m--> 608\u001b[0m     exp_avg_sq_sqrt \u001b[38;5;241m=\u001b[39m \u001b[43mtorch\u001b[49m\u001b[38;5;241;43m.\u001b[39;49m\u001b[43m_foreach_sqrt\u001b[49m\u001b[43m(\u001b[49m\u001b[43mdevice_exp_avg_sqs\u001b[49m\u001b[43m)\u001b[49m\n\u001b[1;32m    610\u001b[0m torch\u001b[38;5;241m.\u001b[39m_foreach_div_(exp_avg_sq_sqrt, bias_correction2_sqrt)\n\u001b[1;32m    611\u001b[0m torch\u001b[38;5;241m.\u001b[39m_foreach_add_(exp_avg_sq_sqrt, eps)\n",
      "\u001b[0;31mOutOfMemoryError\u001b[0m: CUDA out of memory. Tried to allocate 46.00 MiB. GPU 0 has a total capacity of 39.38 GiB of which 39.81 MiB is free. Process 2159305 has 20.79 GiB memory in use. Including non-PyTorch memory, this process has 18.54 GiB memory in use. Of the allocated memory 17.43 GiB is allocated by PyTorch, and 596.51 MiB is reserved by PyTorch but unallocated. If reserved but unallocated memory is large try setting PYTORCH_CUDA_ALLOC_CONF=expandable_segments:True to avoid fragmentation.  See documentation for Memory Management  (https://pytorch.org/docs/stable/notes/cuda.html#environment-variables)"
     ]
    },
    {
     "ename": "",
     "evalue": "",
     "output_type": "error",
     "traceback": [
      "\u001b[1;31mThe Kernel crashed while executing code in the current cell or a previous cell. \n",
      "\u001b[1;31mPlease review the code in the cell(s) to identify a possible cause of the failure. \n",
      "\u001b[1;31mClick <a href='https://aka.ms/vscodeJupyterKernelCrash'>here</a> for more info. \n",
      "\u001b[1;31mView Jupyter <a href='command:jupyter.viewOutput'>log</a> for further details."
     ]
    }
   ],
   "source": [
    "import copy\n",
    "\n",
    "def train_molformer_regression(model, train_loader, val_loader, num_epochs=50, lr=1e-4, patience=9):\n",
    "    device = torch.device(\"cuda\" if torch.cuda.is_available() else \"cpu\")\n",
    "    model = model.to(device)\n",
    "\n",
    "    criterion = nn.MSELoss()  # Mean Squared Error for regression\n",
    "    optimizer = optim.AdamW(model.parameters(), lr=lr, weight_decay=0.01)\n",
    "    scheduler = optim.lr_scheduler.CosineAnnealingLR(optimizer, T_max=15, eta_min=1e-8)\n",
    "\n",
    "    best_val_loss = float(\"inf\")\n",
    "    early_stop_counter = 0\n",
    "    best_model_state = None\n",
    "    \n",
    "    for epoch in range(num_epochs):\n",
    "        model.train()\n",
    "        train_loss = 0\n",
    "\n",
    "        for batch in tqdm(train_loader, desc=f\"Training Epoch {epoch + 1}/{num_epochs}\"):\n",
    "            optimizer.zero_grad()\n",
    "            input_ids = batch[\"input_ids\"].to(device)\n",
    "            attention_mask = batch[\"attention_mask\"].to(device)\n",
    "            docking_scores = batch[\"docking_score\"].to(device)\n",
    "\n",
    "            outputs = model(input_ids, attention_mask)\n",
    "            loss = criterion(outputs, docking_scores)\n",
    "\n",
    "            loss.backward()\n",
    "            optimizer.step()\n",
    "            train_loss += loss.item()\n",
    "\n",
    "        train_loss /= len(train_loader)\n",
    "\n",
    "        model.eval()\n",
    "        val_loss = 0\n",
    "        with torch.no_grad():\n",
    "            for batch in val_loader:\n",
    "                input_ids = batch[\"input_ids\"].to(device)\n",
    "                attention_mask = batch[\"attention_mask\"].to(device)\n",
    "                docking_scores = batch[\"docking_score\"].to(device)\n",
    "\n",
    "                outputs = model(input_ids, attention_mask)\n",
    "                loss = criterion(outputs, docking_scores)\n",
    "                val_loss += loss.item()\n",
    "\n",
    "        val_loss /= len(val_loader)\n",
    "        \n",
    "        avg_val_loss = val_loss\n",
    "        # scheduler.step(avg_val_loss)\n",
    "        print(f\"Epoch {epoch+1}: Train Loss = {train_loss:.4f}, Val Loss = {val_loss:.4f}\")\n",
    "\n",
    "        if avg_val_loss < best_val_loss:\n",
    "            best_val_loss = avg_val_loss\n",
    "            best_model_state = copy.deepcopy(model.state_dict())\n",
    "            early_stop_counter = 0\n",
    "            print(f\"New best validation loss: {best_val_loss:.4f}\")\n",
    "        else:\n",
    "            early_stop_counter += 1\n",
    "            print(f\"No improvement in validation loss for {early_stop_counter} consecutive epochs.\")\n",
    "\n",
    "        if early_stop_counter >= patience:\n",
    "            print(f\"Early stopping triggered at epoch {epoch+1}. Best epoch was {epoch-early_stop_counter+1}.\")\n",
    "            break\n",
    "        \n",
    "    model.load_state_dict(best_model_state)\n",
    "    return model\n",
    "        \n",
    "        # if val_loss < best_val_loss:\n",
    "        #     best_val_loss = val_loss\n",
    "        #     torch.save(model.state_dict(), \"best_molformer_regression.pt\")\n",
    "        #     print(\"Best model saved.\")\n",
    "\n",
    "model = train_molformer_regression(OverparamMoLFormerRegression(num_dense_layers=10, dropout_rate=0.5), train_loader, val_loader, lr = 1e-3, patience=3)\n"
   ]
  },
  {
   "cell_type": "code",
   "execution_count": 58,
   "metadata": {},
   "outputs": [
    {
     "name": "stderr",
     "output_type": "stream",
     "text": [
      "/tmp/ipykernel_741275/3367788240.py:29: ConstantInputWarning: An input array is constant; the correlation coefficient is not defined.\n",
      "  correlation, _ = pearsonr(true_scores, pred_scores)\n",
      "/tmp/ipykernel_741275/3367788240.py:43: UserWarning: No artists with labels found to put in legend.  Note that artists whose label start with an underscore are ignored when legend() is called with no argument.\n",
      "  plt.legend()\n"
     ]
    },
    {
     "data": {
      "image/png": "[encoded data removed]",
      "text/plain": [
       "<Figure size 800x600 with 1 Axes>"
      ]
     },
     "metadata": {},
     "output_type": "display_data"
    },
    {
     "name": "stdout",
     "output_type": "stream",
     "text": [
      "Pearson Correlation Coefficient: nan\n"
     ]
    }
   ],
   "source": [
    "from scipy.stats import pearsonr\n",
    "\n",
    "def plot_predictions(model, val_loader):\n",
    "    device = torch.device(\"cuda\" if torch.cuda.is_available() else \"cpu\")\n",
    "    model = model.to(device)\n",
    "    model.eval()\n",
    "\n",
    "    true_scores, pred_scores = [], []\n",
    "\n",
    "    with torch.no_grad():\n",
    "        for batch in val_loader:\n",
    "            input_ids = batch[\"input_ids\"].to(device)\n",
    "            attention_mask = batch[\"attention_mask\"].to(device)\n",
    "            docking_scores = batch[\"docking_score\"].cpu().numpy()\n",
    "\n",
    "            outputs = model(input_ids, attention_mask).cpu().numpy()\n",
    "\n",
    "            true_scores.extend(docking_scores)\n",
    "            pred_scores.extend(outputs)\n",
    "\n",
    "    # Convert to NumPy arrays\n",
    "    true_scores = np.array(true_scores)\n",
    "    pred_scores = np.array(pred_scores).flatten()\n",
    "    pred_scores = np.round(pred_scores, 2)\n",
    "\n",
    "    # print(true_scores, pred_scores)\n",
    "\n",
    "    # Compute Pearson correlation coefficient\n",
    "    correlation, _ = pearsonr(true_scores, pred_scores)\n",
    "\n",
    "    # Plot\n",
    "    plt.figure(figsize=(8, 6))\n",
    "    sns.scatterplot(x=true_scores, y=pred_scores, alpha=0.5)\n",
    "    plt.xlabel(\"True Docking Scores\")\n",
    "    plt.ylabel(\"Predicted Docking Scores\")\n",
    "    plt.title(f\"Regression Results: True vs. Predicted\\nPearson Correlation: {correlation:.4f}\")\n",
    "    \n",
    "    # Draw diagonal line\n",
    "    min_val = min(true_scores.min(), pred_scores.min())\n",
    "    max_val = max(true_scores.max(), pred_scores.max())\n",
    "    # plt.plot([min_val, max_val], [min_val, max_val], 'r--', lw=2, label=\"Perfect Prediction\")\n",
    "\n",
    "    plt.legend()\n",
    "    plt.show()\n",
    "\n",
    "    print(f\"Pearson Correlation Coefficient: {correlation:.4f}\")\n",
    "\n",
    "# Call the function after training\n",
    "plot_predictions(model, val_loader)\n"
   ]
  },
  {
   "cell_type": "code",
   "execution_count": 45,
   "metadata": {},
   "outputs": [
    {
     "data": {
      "text/plain": [
       "-32.659695"
      ]
     },
     "execution_count": 45,
     "metadata": {},
     "output_type": "execute_result"
    }
   ],
   "source": [
    "pred_scores[0]"
   ]
  },
  {
   "cell_type": "code",
   "execution_count": 47,
   "metadata": {},
   "outputs": [
    {
     "data": {
      "image/png": "[encoded data removed]",
      "text/plain": [
       "<Figure size 800x600 with 1 Axes>"
      ]
     },
     "metadata": {},
     "output_type": "display_data"
    }
   ],
   "source": [
    "true_scores = [\n",
    "    -22.85, -37.78, -36.89, -26.65, -31.91, -21.6, -33.8, -32.1, -46.5, -32.16,\n",
    "    -31.62, -42.65, -38.87, -32.7, -31.94, -34.07, -36.94, -35.45, -25.01, -28.74,\n",
    "    -37.42, -35.07, -26.27, -49.66, -35.06, -25.21, -35.98, -29.62, -31.41, -38.0,\n",
    "    -21.57, -31.78\n",
    "]\n",
    "\n",
    "pred_scores = [\n",
    "    -32.659695, -32.659695, -32.659695, -32.659695, -32.659695, -32.659695,\n",
    "    -32.6597, -32.6597, -32.659695, -32.659695, -32.659695, -32.659695,\n",
    "    -32.659695, -32.659695, -32.659695, -32.659695, -32.659695, -32.659695,\n",
    "    -32.659695, -32.659695, -32.659695, -32.659695, -32.659695, -32.659695,\n",
    "    -32.659695, -32.659695, -32.659695, -32.659695, -32.659695, -32.659695,\n",
    "    -32.659695, -32.659695\n",
    "]\n",
    "pred_scores = np.round(pred_scores, 2)\n",
    "# true_scores, pred_scores = [-35,-50], [-32,-32]\n",
    "plt.figure(figsize=(8, 6))\n",
    "plt.scatter(pred_scores, true_scores) #(true_scores, pred_scores)\n",
    "plt.show()"
   ]
  },
  {
   "cell_type": "code",
   "execution_count": 25,
   "metadata": {},
   "outputs": [
    {
     "name": "stderr",
     "output_type": "stream",
     "text": [
      "  0%|          | 0/79 [00:00<?, ?it/s]"
     ]
    },
    {
     "name": "stdout",
     "output_type": "stream",
     "text": [
      "tensor([-22.8500, -37.7800, -36.8900, -26.6500, -31.9100, -21.6000, -33.8000,\n",
      "        -32.1000, -46.5000, -32.1600, -31.6200, -42.6500, -38.8700, -32.7000,\n",
      "        -31.9400, -34.0700, -36.9400, -35.4500, -25.0100, -28.7400, -37.4200,\n",
      "        -35.0700, -26.2700, -49.6600, -35.0600, -25.2100, -35.9800, -29.6200,\n",
      "        -31.4100, -38.0000, -21.5700, -31.7800, -28.7200, -31.5300, -40.1500,\n",
      "        -38.1200, -32.8100, -26.2100, -33.8600, -40.8000, -35.5200, -34.1000,\n",
      "        -41.4200, -29.8100, -42.9300, -27.0100, -30.9600, -44.9200, -35.6000,\n",
      "        -32.2500, -34.4700, -36.0500, -32.3500, -31.6800, -36.3500, -31.4400,\n",
      "        -34.3000, -43.7100, -29.0200, -31.3600, -33.0600, -39.6300, -27.2300,\n",
      "        -28.6200, -38.9100, -35.4000, -18.4800, -33.4900, -24.6100, -28.2600,\n",
      "        -34.7600, -42.2200, -38.5500, -33.9100, -27.2900, -44.8600, -36.6000,\n",
      "        -29.3200, -37.3200, -27.9300, -32.1800, -34.9300, -31.6200, -27.5400,\n",
      "        -32.8100, -36.0500, -32.2500, -34.4100, -20.4000, -36.2700, -39.0900,\n",
      "        -17.2200, -27.0600, -35.5000, -29.4000, -31.3000, -33.1300, -26.9300,\n",
      "        -37.0500, -37.2500, -30.7900, -35.2900, -36.7800, -40.4500, -21.1500,\n",
      "        -29.1500, -29.3700, -28.4200, -25.3800, -28.9000, -35.2700, -33.2900,\n",
      "        -27.7300, -30.1400, -34.5500, -32.0900, -35.5600, -34.4000, -33.5600,\n",
      "        -29.3900, -33.0700, -31.6400, -30.7500, -32.4000, -31.3200, -31.0700,\n",
      "        -36.5000, -35.8600], device='cuda:0') tensor([-32.6597, -32.6597, -32.6597, -32.6597, -32.6597, -32.6597, -32.6597,\n",
      "        -32.6597, -32.6597, -32.6597, -32.6597, -32.6597, -32.6597, -32.6597,\n",
      "        -32.6597, -32.6597, -32.6597, -32.6597, -32.6597, -32.6597, -32.6597,\n",
      "        -32.6597, -32.6597, -32.6597, -32.6597, -32.6597, -32.6597, -32.6597,\n",
      "        -32.6597, -32.6597, -32.6597, -32.6597, -32.6597, -32.6597, -32.6597,\n",
      "        -32.6597, -32.6597, -32.6597, -32.6597, -32.6597, -32.6597, -32.6597,\n",
      "        -32.6597, -32.6597, -32.6597, -32.6597, -32.6597, -32.6597, -32.6597,\n",
      "        -32.6597, -32.6597, -32.6597, -32.6597, -32.6597, -32.6597, -32.6597,\n",
      "        -32.6597, -32.6597, -32.6597, -32.6597, -32.6597, -32.6597, -32.6597,\n",
      "        -32.6597, -32.6597, -32.6597, -32.6597, -32.6597, -32.6597, -32.6597,\n",
      "        -32.6597, -32.6597, -32.6597, -32.6597, -32.6597, -32.6597, -32.6597,\n",
      "        -32.6597, -32.6597, -32.6597, -32.6597, -32.6597, -32.6597, -32.6597,\n",
      "        -32.6597, -32.6597, -32.6597, -32.6597, -32.6597, -32.6597, -32.6597,\n",
      "        -32.6597, -32.6597, -32.6597, -32.6597, -32.6597, -32.6597, -32.6597,\n",
      "        -32.6597, -32.6597, -32.6597, -32.6597, -32.6597, -32.6597, -32.6597,\n",
      "        -32.6597, -32.6597, -32.6597, -32.6597, -32.6597, -32.6597, -32.6597,\n",
      "        -32.6597, -32.6597, -32.6597, -32.6597, -32.6597, -32.6597, -32.6597,\n",
      "        -32.6597, -32.6597, -32.6597, -32.6597, -32.6597, -32.6597, -32.6597,\n",
      "        -32.6597, -32.6597], device='cuda:0', grad_fn=<SqueezeBackward0>)\n"
     ]
    },
    {
     "name": "stderr",
     "output_type": "stream",
     "text": [
      "\n"
     ]
    }
   ],
   "source": [
    "device = torch.device('cuda')\n",
    "for batch in tqdm(val_loader):\n",
    "    input_ids = batch[\"input_ids\"].to(device)\n",
    "    attention_mask = batch[\"attention_mask\"].to(device)\n",
    "    docking_scores = batch[\"docking_score\"].to(device)\n",
    "\n",
    "    outputs = model(input_ids, attention_mask)\n",
    "    print(docking_scores, outputs)\n",
    "    break"
   ]
  },
  {
   "cell_type": "markdown",
   "metadata": {},
   "source": [
    "# Pearson on true top1% mols in dataset\n"
   ]
  },
  {
   "cell_type": "code",
   "execution_count": null,
   "metadata": {},
   "outputs": [
    {
     "data": {
      "text/html": [
       "<div>\n",
       "<style scoped>\n",
       "    .dataframe tbody tr th:only-of-type {\n",
       "        vertical-align: middle;\n",
       "    }\n",
       "\n",
       "    .dataframe tbody tr th {\n",
       "        vertical-align: top;\n",
       "    }\n",
       "\n",
       "    .dataframe thead th {\n",
       "        text-align: right;\n",
       "    }\n",
       "</style>\n",
       "<table border=\"1\" class=\"dataframe\">\n",
       "  <thead>\n",
       "    <tr style=\"text-align: right;\">\n",
       "      <th></th>\n",
       "      <th>zinc_id</th>\n",
       "      <th>smiles</th>\n",
       "      <th>indices</th>\n",
       "      <th>jak2_dockscores</th>\n",
       "      <th>labels</th>\n",
       "    </tr>\n",
       "  </thead>\n",
       "  <tbody>\n",
       "    <tr>\n",
       "      <th>3</th>\n",
       "      <td>s_11____18313630____54601</td>\n",
       "      <td>CC1=CC=C2N=C(C3=CC=CC=C3)C=C(C(=O)NC3=NN(C)C(=...</td>\n",
       "      <td>b\"\\x9d\\x00\\x00\\x00\\xeb\\x00\\x00\\x00\\xf9\\x00\\x00...</td>\n",
       "      <td>-10.7</td>\n",
       "      <td>True</td>\n",
       "    </tr>\n",
       "    <tr>\n",
       "      <th>17</th>\n",
       "      <td>s_2708____5349540____14653194</td>\n",
       "      <td>CCC(NC(=O)N1CCC2(CC1)C(=O)NCN2C)C1=CC=C(F)C=C1F</td>\n",
       "      <td>b\"\\x01\\x00\\x00\\x00P\\x00\\x00\\x00k\\x00\\x00\\x00u\\...</td>\n",
       "      <td>-9.7</td>\n",
       "      <td>True</td>\n",
       "    </tr>\n",
       "    <tr>\n",
       "      <th>250</th>\n",
       "      <td>s_22____12793848____21290998</td>\n",
       "      <td>CN1C=CC(NC2=CC=CC=C2NC(=O)C2=C3C=CNC3=CC(C(F)(...</td>\n",
       "      <td>b\"`\\x00\\x00\\x00r\\x00\\x00\\x00w\\x00\\x00\\x00\\x03\\...</td>\n",
       "      <td>-10.4</td>\n",
       "      <td>True</td>\n",
       "    </tr>\n",
       "    <tr>\n",
       "      <th>426</th>\n",
       "      <td>m_276010____17281866____24766394____24752070</td>\n",
       "      <td>CC1=CC=C(CN2C=C(C3=CC=CC(N4CCN(C(=O)C5=NC=C([N...</td>\n",
       "      <td>b\"P\\x00\\x00\\x00\\xc0\\x00\\x00\\x00\\xee\\x00\\x00\\x0...</td>\n",
       "      <td>-9.6</td>\n",
       "      <td>False</td>\n",
       "    </tr>\n",
       "    <tr>\n",
       "      <th>752</th>\n",
       "      <td>s_22____14577504____24595984</td>\n",
       "      <td>O=C(NC1=C2C(O)=CC=CC2=CC=C1)C1CCC2(CCNC2=O)CC1</td>\n",
       "      <td>b\"1\\x01\\x00\\x00:\\x01\\x00\\x00\\x8a\\x02\\x00\\x00\\x...</td>\n",
       "      <td>-10.2</td>\n",
       "      <td>True</td>\n",
       "    </tr>\n",
       "    <tr>\n",
       "      <th>...</th>\n",
       "      <td>...</td>\n",
       "      <td>...</td>\n",
       "      <td>...</td>\n",
       "      <td>...</td>\n",
       "      <td>...</td>\n",
       "    </tr>\n",
       "    <tr>\n",
       "      <th>1850801</th>\n",
       "      <td>s_271570____19608590____14390082</td>\n",
       "      <td>COC(=O)C1=CC=C2C=C(C3=C(C)C=CC4=NSN=C34)C=CC2=C1</td>\n",
       "      <td>b\"z\\x00\\x00\\x00\\x91\\x00\\x00\\x00\\xcb\\x00\\x00\\x0...</td>\n",
       "      <td>-10.1</td>\n",
       "      <td>True</td>\n",
       "    </tr>\n",
       "    <tr>\n",
       "      <th>1850844</th>\n",
       "      <td>m_280190____22877816____18083558____19344434</td>\n",
       "      <td>CC1=CC=C(CN2C=C(C3=CC(C(=O)N[C@@H]4CCC[C@@H](C...</td>\n",
       "      <td>b\"P\\x00\\x00\\x00\\xc0\\x00\\x00\\x00\\xeb\\x00\\x00\\x0...</td>\n",
       "      <td>-9.6</td>\n",
       "      <td>False</td>\n",
       "    </tr>\n",
       "    <tr>\n",
       "      <th>1851033</th>\n",
       "      <td>m_275592____15865472____15843880____15857394</td>\n",
       "      <td>O=C(NC1CN(C(=O)C2=CC(Cl)=NNC2=O)CC2(CCC2)C1)C1...</td>\n",
       "      <td>b\"\\t\\x00\\x00\\x00J\\x00\\x00\\x00a\\x00\\x00\\x00h\\x0...</td>\n",
       "      <td>-9.7</td>\n",
       "      <td>True</td>\n",
       "    </tr>\n",
       "    <tr>\n",
       "      <th>1851176</th>\n",
       "      <td>s_22____8627552____21060586</td>\n",
       "      <td>CCC1=CC(NC(=O)C2=NC=CN=C2C(=O)NC2=CC=C(F)C=C2)...</td>\n",
       "      <td>b\"P\\x00\\x00\\x00Z\\x00\\x00\\x00\\xa0\\x00\\x00\\x00\\x...</td>\n",
       "      <td>-10.0</td>\n",
       "      <td>True</td>\n",
       "    </tr>\n",
       "    <tr>\n",
       "      <th>1851726</th>\n",
       "      <td>m_282030____21920032____22360184____21977872</td>\n",
       "      <td>FC1(F)CCC(CNC2=NC(NCC3=CC=C4OCCNC4=C3)=NC3=CC=...</td>\n",
       "      <td>b'\\x1d\\x00\\x00\\x00P\\x00\\x00\\x00k\\x00\\x00\\x00\\x...</td>\n",
       "      <td>-9.6</td>\n",
       "      <td>False</td>\n",
       "    </tr>\n",
       "  </tbody>\n",
       "</table>\n",
       "<p>17422 rows × 5 columns</p>\n",
       "</div>"
      ],
      "text/plain": [
       "                                              zinc_id  \\\n",
       "3                           s_11____18313630____54601   \n",
       "17                      s_2708____5349540____14653194   \n",
       "250                      s_22____12793848____21290998   \n",
       "426      m_276010____17281866____24766394____24752070   \n",
       "752                      s_22____14577504____24595984   \n",
       "...                                               ...   \n",
       "1850801              s_271570____19608590____14390082   \n",
       "1850844  m_280190____22877816____18083558____19344434   \n",
       "1851033  m_275592____15865472____15843880____15857394   \n",
       "1851176                   s_22____8627552____21060586   \n",
       "1851726  m_282030____21920032____22360184____21977872   \n",
       "\n",
       "                                                    smiles  \\\n",
       "3        CC1=CC=C2N=C(C3=CC=CC=C3)C=C(C(=O)NC3=NN(C)C(=...   \n",
       "17         CCC(NC(=O)N1CCC2(CC1)C(=O)NCN2C)C1=CC=C(F)C=C1F   \n",
       "250      CN1C=CC(NC2=CC=CC=C2NC(=O)C2=C3C=CNC3=CC(C(F)(...   \n",
       "426      CC1=CC=C(CN2C=C(C3=CC=CC(N4CCN(C(=O)C5=NC=C([N...   \n",
       "752         O=C(NC1=C2C(O)=CC=CC2=CC=C1)C1CCC2(CCNC2=O)CC1   \n",
       "...                                                    ...   \n",
       "1850801   COC(=O)C1=CC=C2C=C(C3=C(C)C=CC4=NSN=C34)C=CC2=C1   \n",
       "1850844  CC1=CC=C(CN2C=C(C3=CC(C(=O)N[C@@H]4CCC[C@@H](C...   \n",
       "1851033  O=C(NC1CN(C(=O)C2=CC(Cl)=NNC2=O)CC2(CCC2)C1)C1...   \n",
       "1851176  CCC1=CC(NC(=O)C2=NC=CN=C2C(=O)NC2=CC=C(F)C=C2)...   \n",
       "1851726  FC1(F)CCC(CNC2=NC(NCC3=CC=C4OCCNC4=C3)=NC3=CC=...   \n",
       "\n",
       "                                                   indices  jak2_dockscores  \\\n",
       "3        b\"\\x9d\\x00\\x00\\x00\\xeb\\x00\\x00\\x00\\xf9\\x00\\x00...            -10.7   \n",
       "17       b\"\\x01\\x00\\x00\\x00P\\x00\\x00\\x00k\\x00\\x00\\x00u\\...             -9.7   \n",
       "250      b\"`\\x00\\x00\\x00r\\x00\\x00\\x00w\\x00\\x00\\x00\\x03\\...            -10.4   \n",
       "426      b\"P\\x00\\x00\\x00\\xc0\\x00\\x00\\x00\\xee\\x00\\x00\\x0...             -9.6   \n",
       "752      b\"1\\x01\\x00\\x00:\\x01\\x00\\x00\\x8a\\x02\\x00\\x00\\x...            -10.2   \n",
       "...                                                    ...              ...   \n",
       "1850801  b\"z\\x00\\x00\\x00\\x91\\x00\\x00\\x00\\xcb\\x00\\x00\\x0...            -10.1   \n",
       "1850844  b\"P\\x00\\x00\\x00\\xc0\\x00\\x00\\x00\\xeb\\x00\\x00\\x0...             -9.6   \n",
       "1851033  b\"\\t\\x00\\x00\\x00J\\x00\\x00\\x00a\\x00\\x00\\x00h\\x0...             -9.7   \n",
       "1851176  b\"P\\x00\\x00\\x00Z\\x00\\x00\\x00\\xa0\\x00\\x00\\x00\\x...            -10.0   \n",
       "1851726  b'\\x1d\\x00\\x00\\x00P\\x00\\x00\\x00k\\x00\\x00\\x00\\x...             -9.6   \n",
       "\n",
       "         labels  \n",
       "3          True  \n",
       "17         True  \n",
       "250        True  \n",
       "426       False  \n",
       "752        True  \n",
       "...         ...  \n",
       "1850801    True  \n",
       "1850844   False  \n",
       "1851033    True  \n",
       "1851176    True  \n",
       "1851726   False  \n",
       "\n",
       "[17422 rows x 5 columns]"
      ]
     },
     "execution_count": 23,
     "metadata": {},
     "output_type": "execute_result"
    }
   ],
   "source": [
    "\n",
    "true_top1pct_df"
   ]
  },
  {
   "cell_type": "code",
   "execution_count": null,
   "metadata": {},
   "outputs": [
    {
     "name": "stdout",
     "output_type": "stream",
     "text": [
      "(17422, 7)\n"
     ]
    },
    {
     "name": "stderr",
     "output_type": "stream",
     "text": [
      "/tmp/ipykernel_4149050/3738087962.py:40: UserWarning: No artists with labels found to put in legend.  Note that artists whose label start with an underscore are ignored when legend() is called with no argument.\n",
      "  plt.legend()\n"
     ]
    },
    {
     "data": {
      "image/png": "[encoded data removed]",
      "text/plain": [
       "<Figure size 800x600 with 1 Axes>"
      ]
     },
     "metadata": {},
     "output_type": "display_data"
    },
    {
     "name": "stdout",
     "output_type": "stream",
     "text": [
      "Pearson Correlation Coefficient: 0.1091\n"
     ]
    }
   ],
   "source": [
    "true_top1pct_df = merged_df[merged_df.mpro_dockscores<=threshold]\n",
    "print(true_top1pct_df.shape)\n",
    "true_top1pct_dataset =  SMILESDataset(true_top1pct_df, tokenizer)\n",
    "true_top1pct_dataloader = DataLoader(true_top1pct_dataset, batch_size=32, shuffle=True)\n",
    "plot_predictions(model, true_top1pct_dataloader)\n"
   ]
  },
  {
   "cell_type": "markdown",
   "metadata": {},
   "source": []
  }
 ],
 "metadata": {
  "kernelspec": {
   "display_name": "dds",
   "language": "python",
   "name": "python3"
  },
  "language_info": {
   "codemirror_mode": {
    "name": "ipython",
    "version": 3
   },
   "file_extension": ".py",
   "mimetype": "text/x-python",
   "name": "python",
   "nbconvert_exporter": "python",
   "pygments_lexer": "ipython3",
   "version": "3.11.10"
  }
 },
 "nbformat": 4,
 "nbformat_minor": 2
}
