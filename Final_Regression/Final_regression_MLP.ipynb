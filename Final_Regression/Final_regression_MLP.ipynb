{
 "cells": [
  {
   "cell_type": "code",
   "execution_count": 1,
   "metadata": {},
   "outputs": [],
   "source": [
    "import pickle\n",
    "from tqdm import tqdm_notebook, tqdm\n",
    "import pandas as pd\n",
    "from rdkit.Chem import AllChem\n",
    "import numpy as np\n",
    "from rdkit import Chem\n",
    "tqdm.pandas()\n",
    "import os\n",
    "import torch\n",
    "import torch.nn as nn\n",
    "import torch.optim as optim\n",
    "import pandas as pd\n",
    "import numpy as np\n",
    "import matplotlib.pyplot as plt\n",
    "import seaborn as sns\n",
    "\n",
    "from transformers import AutoTokenizer, AutoModel\n",
    "from torch.utils.data import Dataset, DataLoader, random_split, TensorDataset\n",
    "from sklearn.model_selection import train_test_split\n",
    "from sklearn.metrics import mean_absolute_error, mean_squared_error, r2_score\n"
   ]
  },
  {
   "cell_type": "code",
   "execution_count": 2,
   "metadata": {},
   "outputs": [],
   "source": [
    "with open('/groups/cherkasvgrp/Student_backup/mkpandey/My_Projects/DDSgroups/Projects/DDS_AL_2M_2_dynamicVAL_mpro_bald_advanced_molformer_False_True/Regression/pred_active_mols_100K_df.pkl','rb') as f:\n",
    "    pred_active_mols_250K_df = pickle.load(f)\n",
    "\n",
    "with open('/groups/cherkasvgrp/Student_backup/mkpandey/My_Projects/DDSgroups/Projects/DDS_AL_2M_2_dynamicVAL_mpro_bald_advanced_molformer_False_True/Regression/true_top1pct_df.pkl','rb') as f:\n",
    "    true_top1pct_df = pickle.load(f)"
   ]
  },
  {
   "cell_type": "code",
   "execution_count": 3,
   "metadata": {},
   "outputs": [],
   "source": [
    "def generate_morgan_fingerprint(smiles, radius=2, nBits=2048):\n",
    "    mol = Chem.MolFromSmiles(smiles)\n",
    "    if mol is None:\n",
    "        raise ValueError(f\"Invalid SMILES string: {smiles}\")\n",
    "    \n",
    "    fp = AllChem.GetMorganFingerprintAsBitVect(mol, useChirality = not True, radius=radius, nBits=nBits)\n",
    "    bit_string = fp.ToBitString()\n",
    "    return np.array([list(map(int, bit_string))])"
   ]
  },
  {
   "cell_type": "code",
   "execution_count": 4,
   "metadata": {},
   "outputs": [
    {
     "name": "stderr",
     "output_type": "stream",
     "text": [
      "100%|██████████| 100000/100000 [00:43<00:00, 2273.88it/s]\n"
     ]
    }
   ],
   "source": [
    "pred_active_mols_250K_df['morgan']= pred_active_mols_250K_df.smiles_x.progress_apply(lambda x: generate_morgan_fingerprint(x))"
   ]
  },
  {
   "cell_type": "code",
   "execution_count": 16,
   "metadata": {},
   "outputs": [
    {
     "data": {
      "text/html": [
       "<div>\n",
       "<style scoped>\n",
       "    .dataframe tbody tr th:only-of-type {\n",
       "        vertical-align: middle;\n",
       "    }\n",
       "\n",
       "    .dataframe tbody tr th {\n",
       "        vertical-align: top;\n",
       "    }\n",
       "\n",
       "    .dataframe thead th {\n",
       "        text-align: right;\n",
       "    }\n",
       "</style>\n",
       "<table border=\"1\" class=\"dataframe\">\n",
       "  <thead>\n",
       "    <tr style=\"text-align: right;\">\n",
       "      <th></th>\n",
       "      <th>smiles_x</th>\n",
       "      <th>zinc_id</th>\n",
       "      <th>mpro_dockscores</th>\n",
       "      <th>labels</th>\n",
       "      <th>pred_label</th>\n",
       "      <th>morgan</th>\n",
       "    </tr>\n",
       "  </thead>\n",
       "  <tbody>\n",
       "    <tr>\n",
       "      <th>677402839</th>\n",
       "      <td>C[C@H]1CN(C(=O)CCn2ccnc2)C[C@@H]1Nc1ncnc2c1CCCC2</td>\n",
       "      <td>ZINCqp00000k7vOr</td>\n",
       "      <td>-41.70</td>\n",
       "      <td>True</td>\n",
       "      <td>1</td>\n",
       "      <td>[[0, 0, 0, 0, 0, 0, 0, 0, 0, 0, 0, 0, 0, 0, 0,...</td>\n",
       "    </tr>\n",
       "    <tr>\n",
       "      <th>672113497</th>\n",
       "      <td>Cc1ccc(Br)cc1C[S@@](=O)[C@H](C)c1nncn1C</td>\n",
       "      <td>ZINCjy000003qTmg</td>\n",
       "      <td>-18.26</td>\n",
       "      <td>False</td>\n",
       "      <td>1</td>\n",
       "      <td>[[0, 1, 0, 0, 0, 0, 0, 0, 0, 0, 0, 0, 0, 0, 0,...</td>\n",
       "    </tr>\n",
       "    <tr>\n",
       "      <th>500602140</th>\n",
       "      <td>CC(C)N(C(=O)C[C@@H](C)c1ccncc1)C1CCOCC1</td>\n",
       "      <td>ZINClz0000020vVC</td>\n",
       "      <td>-32.09</td>\n",
       "      <td>False</td>\n",
       "      <td>1</td>\n",
       "      <td>[[0, 1, 0, 0, 0, 0, 0, 0, 0, 0, 0, 0, 0, 0, 0,...</td>\n",
       "    </tr>\n",
       "    <tr>\n",
       "      <th>547294787</th>\n",
       "      <td>COCCN(CCc1ccncc1)C(=O)Cc1ccc(F)c(Cl)c1</td>\n",
       "      <td>ZINCoB000005aV1R</td>\n",
       "      <td>-36.12</td>\n",
       "      <td>False</td>\n",
       "      <td>1</td>\n",
       "      <td>[[0, 0, 0, 0, 0, 0, 0, 0, 0, 0, 0, 0, 0, 1, 0,...</td>\n",
       "    </tr>\n",
       "    <tr>\n",
       "      <th>39774269</th>\n",
       "      <td>Cc1cc(C(=O)N(C)CCN=c2[nH]c3ccccc3o2)[nH]c1C</td>\n",
       "      <td>ZINCnz000003FDm7</td>\n",
       "      <td>-31.03</td>\n",
       "      <td>False</td>\n",
       "      <td>1</td>\n",
       "      <td>[[0, 0, 0, 0, 0, 0, 0, 0, 0, 0, 0, 0, 0, 0, 0,...</td>\n",
       "    </tr>\n",
       "    <tr>\n",
       "      <th>...</th>\n",
       "      <td>...</td>\n",
       "      <td>...</td>\n",
       "      <td>...</td>\n",
       "      <td>...</td>\n",
       "      <td>...</td>\n",
       "      <td>...</td>\n",
       "    </tr>\n",
       "    <tr>\n",
       "      <th>638818837</th>\n",
       "      <td>C/C=C(\\F)C(=O)N1[C@H]2CC[C@@H]1CN(C(=O)Cc1cncn...</td>\n",
       "      <td>ZINCng00000j51wB</td>\n",
       "      <td>-29.35</td>\n",
       "      <td>False</td>\n",
       "      <td>1</td>\n",
       "      <td>[[0, 0, 0, 0, 0, 0, 0, 0, 0, 0, 0, 0, 0, 0, 0,...</td>\n",
       "    </tr>\n",
       "    <tr>\n",
       "      <th>630880293</th>\n",
       "      <td>C[C@H](CNC(=O)c1cccc(O)n1)N(C)C(=O)c1ccno1</td>\n",
       "      <td>ZINCm8000003xkIb</td>\n",
       "      <td>-31.33</td>\n",
       "      <td>False</td>\n",
       "      <td>1</td>\n",
       "      <td>[[0, 1, 0, 0, 0, 0, 0, 0, 0, 0, 0, 0, 0, 0, 0,...</td>\n",
       "    </tr>\n",
       "    <tr>\n",
       "      <th>351252029</th>\n",
       "      <td>Cc1cc(CO)cc(=NCCc2ccncc2)[nH]1</td>\n",
       "      <td>ZINCip0000025rAH</td>\n",
       "      <td>-35.11</td>\n",
       "      <td>False</td>\n",
       "      <td>1</td>\n",
       "      <td>[[0, 0, 0, 0, 0, 0, 0, 0, 0, 0, 0, 0, 0, 0, 0,...</td>\n",
       "    </tr>\n",
       "    <tr>\n",
       "      <th>26712948</th>\n",
       "      <td>Fc1cccc(C[C@@H]2CCCN2Cc2nc(-c3ccncn3)no2)c1F</td>\n",
       "      <td>ZINCqA000000Fr0o</td>\n",
       "      <td>-29.59</td>\n",
       "      <td>False</td>\n",
       "      <td>1</td>\n",
       "      <td>[[0, 0, 0, 0, 0, 0, 0, 0, 0, 0, 0, 0, 0, 0, 0,...</td>\n",
       "    </tr>\n",
       "    <tr>\n",
       "      <th>229441416</th>\n",
       "      <td>COc1cccc(CO[C@H]2CCN(Cc3cnoc3C)C2)c1</td>\n",
       "      <td>ZINCmx0000022AAe</td>\n",
       "      <td>-36.75</td>\n",
       "      <td>False</td>\n",
       "      <td>1</td>\n",
       "      <td>[[0, 0, 0, 0, 0, 0, 0, 0, 0, 0, 0, 0, 0, 0, 0,...</td>\n",
       "    </tr>\n",
       "  </tbody>\n",
       "</table>\n",
       "<p>100000 rows × 6 columns</p>\n",
       "</div>"
      ],
      "text/plain": [
       "                                                    smiles_x  \\\n",
       "677402839   C[C@H]1CN(C(=O)CCn2ccnc2)C[C@@H]1Nc1ncnc2c1CCCC2   \n",
       "672113497            Cc1ccc(Br)cc1C[S@@](=O)[C@H](C)c1nncn1C   \n",
       "500602140            CC(C)N(C(=O)C[C@@H](C)c1ccncc1)C1CCOCC1   \n",
       "547294787             COCCN(CCc1ccncc1)C(=O)Cc1ccc(F)c(Cl)c1   \n",
       "39774269         Cc1cc(C(=O)N(C)CCN=c2[nH]c3ccccc3o2)[nH]c1C   \n",
       "...                                                      ...   \n",
       "638818837  C/C=C(\\F)C(=O)N1[C@H]2CC[C@@H]1CN(C(=O)Cc1cncn...   \n",
       "630880293         C[C@H](CNC(=O)c1cccc(O)n1)N(C)C(=O)c1ccno1   \n",
       "351252029                     Cc1cc(CO)cc(=NCCc2ccncc2)[nH]1   \n",
       "26712948        Fc1cccc(C[C@@H]2CCCN2Cc2nc(-c3ccncn3)no2)c1F   \n",
       "229441416               COc1cccc(CO[C@H]2CCN(Cc3cnoc3C)C2)c1   \n",
       "\n",
       "                    zinc_id  mpro_dockscores  labels  pred_label  \\\n",
       "677402839  ZINCqp00000k7vOr           -41.70    True           1   \n",
       "672113497  ZINCjy000003qTmg           -18.26   False           1   \n",
       "500602140  ZINClz0000020vVC           -32.09   False           1   \n",
       "547294787  ZINCoB000005aV1R           -36.12   False           1   \n",
       "39774269   ZINCnz000003FDm7           -31.03   False           1   \n",
       "...                     ...              ...     ...         ...   \n",
       "638818837  ZINCng00000j51wB           -29.35   False           1   \n",
       "630880293  ZINCm8000003xkIb           -31.33   False           1   \n",
       "351252029  ZINCip0000025rAH           -35.11   False           1   \n",
       "26712948   ZINCqA000000Fr0o           -29.59   False           1   \n",
       "229441416  ZINCmx0000022AAe           -36.75   False           1   \n",
       "\n",
       "                                                      morgan  \n",
       "677402839  [[0, 0, 0, 0, 0, 0, 0, 0, 0, 0, 0, 0, 0, 0, 0,...  \n",
       "672113497  [[0, 1, 0, 0, 0, 0, 0, 0, 0, 0, 0, 0, 0, 0, 0,...  \n",
       "500602140  [[0, 1, 0, 0, 0, 0, 0, 0, 0, 0, 0, 0, 0, 0, 0,...  \n",
       "547294787  [[0, 0, 0, 0, 0, 0, 0, 0, 0, 0, 0, 0, 0, 1, 0,...  \n",
       "39774269   [[0, 0, 0, 0, 0, 0, 0, 0, 0, 0, 0, 0, 0, 0, 0,...  \n",
       "...                                                      ...  \n",
       "638818837  [[0, 0, 0, 0, 0, 0, 0, 0, 0, 0, 0, 0, 0, 0, 0,...  \n",
       "630880293  [[0, 1, 0, 0, 0, 0, 0, 0, 0, 0, 0, 0, 0, 0, 0,...  \n",
       "351252029  [[0, 0, 0, 0, 0, 0, 0, 0, 0, 0, 0, 0, 0, 0, 0,...  \n",
       "26712948   [[0, 0, 0, 0, 0, 0, 0, 0, 0, 0, 0, 0, 0, 0, 0,...  \n",
       "229441416  [[0, 0, 0, 0, 0, 0, 0, 0, 0, 0, 0, 0, 0, 0, 0,...  \n",
       "\n",
       "[100000 rows x 6 columns]"
      ]
     },
     "execution_count": 16,
     "metadata": {},
     "output_type": "execute_result"
    }
   ],
   "source": [
    "pred_active_mols_250K_df"
   ]
  },
  {
   "cell_type": "code",
   "execution_count": 5,
   "metadata": {},
   "outputs": [],
   "source": [
    "# Split dataset into train (80%), validation (10%), and test (10%)\n",
    "train_df, temp_df = train_test_split(pred_active_mols_250K_df, test_size=0.2, random_state=42)  # 80% train\n",
    "val_df, test_df = train_test_split(temp_df, test_size=0.5, random_state=42)  # 10% val, 10% test\n",
    "\n",
    "X_train, X_val, X_test = np.concatenate(train_df.morgan.values), np.concatenate(val_df.morgan.values), np.concatenate(test_df.morgan.values)\n",
    "y_train, y_val, y_test = train_df.mpro_dockscores.values, val_df.mpro_dockscores.values, test_df.mpro_dockscores.values\n",
    "\n",
    "train_dataset = TensorDataset(\n",
    "    torch.tensor(X_train, dtype=torch.float32),\n",
    "    torch.tensor(y_train, dtype=torch.float32)\n",
    ")\n",
    "val_dataset = TensorDataset(\n",
    "    torch.tensor(X_val, dtype=torch.float32),\n",
    "    torch.tensor(y_val, dtype=torch.float32)\n",
    ")\n",
    "test_dataset = TensorDataset(\n",
    "    torch.tensor(X_test, dtype=torch.float32),\n",
    "    torch.tensor(y_test, dtype=torch.float32)\n",
    ")\n",
    "\n",
    "train_loader = DataLoader(\n",
    "    dataset=train_dataset,\n",
    "    batch_size=32,\n",
    "    shuffle=True,\n",
    "    num_workers=1\n",
    ")\n",
    "val_loader = DataLoader(\n",
    "    dataset=val_dataset,\n",
    "    batch_size=32,\n",
    "    shuffle=False,\n",
    "    num_workers=1\n",
    ")\n",
    "test_loader = DataLoader(\n",
    "    dataset=val_dataset,\n",
    "    batch_size=32,\n",
    "    shuffle=False,\n",
    "    num_workers=1\n",
    ")"
   ]
  },
  {
   "cell_type": "code",
   "execution_count": 6,
   "metadata": {},
   "outputs": [],
   "source": [
    "class OverparamMLPTxRegression(nn.Module):\n",
    "    def __init__(self, dropout_rate=0.1, num_dense_layers=6, num_residual_blocks=10, num_attention_layers=3):\n",
    "        super(OverparamMLPTxRegression, self).__init__()\n",
    "        # smiles_model = \"ibm/MoLFormer-XL-both-10pct\"\n",
    "\n",
    "        # self.tokenizer = AutoTokenizer.from_pretrained(smiles_model, trust_remote_code=True)\n",
    "        # self.base_model = AutoModel.from_pretrained(smiles_model, deterministic_eval=True, trust_remote_code=True)\n",
    "\n",
    "        hidden_dim = 2048 #self.base_model.config.hidden_size\n",
    "        intermediate_dim = 5 * hidden_dim  # Increased intermediate layer size\n",
    "\n",
    "        # Multi-layer attention pooling\n",
    "        self.attention_layers = nn.ModuleList([\n",
    "            nn.Linear(hidden_dim, 1) for _ in range(num_attention_layers)\n",
    "        ])\n",
    "\n",
    "        # Deep Dense Layers (Overparameterization)\n",
    "        self.dense_layers = nn.ModuleList([\n",
    "            nn.Linear(hidden_dim*num_attention_layers + i * hidden_dim, hidden_dim) for i in range(num_dense_layers)\n",
    "        ])\n",
    "\n",
    "        concatenated_size = hidden_dim * num_attention_layers + (hidden_dim * num_dense_layers)\n",
    "        self.project_dense = nn.Linear(concatenated_size, hidden_dim)\n",
    "\n",
    "        # Multihead Attention Layers (Stacked for overparameterization)\n",
    "        self.multihead_attention_layers = nn.ModuleList([\n",
    "            nn.MultiheadAttention(embed_dim=hidden_dim, num_heads=16, dropout=dropout_rate, batch_first=True)\n",
    "            for _ in range(num_attention_layers)\n",
    "        ])\n",
    "\n",
    "        # Deep Residual Blocks\n",
    "        self.residual_blocks = nn.Sequential(*[\n",
    "            self._create_residual_block(hidden_dim, intermediate_dim, dropout_rate)\n",
    "            for _ in range(num_residual_blocks)\n",
    "        ])\n",
    "\n",
    "        # Fully connected overparameterized layers\n",
    "        self.fc1 = nn.Linear(hidden_dim, intermediate_dim)\n",
    "        self.norm1 = nn.LayerNorm(intermediate_dim)\n",
    "        self.fc2 = nn.Linear(intermediate_dim, intermediate_dim // 2)\n",
    "        self.norm2 = nn.LayerNorm(intermediate_dim // 2)\n",
    "        self.fc3 = nn.Linear(intermediate_dim // 2, hidden_dim)  # Additional FC layer\n",
    "\n",
    "        self.dropout = nn.Dropout(p=dropout_rate)\n",
    "        self.output_layer = nn.Linear(hidden_dim, 1)  # Regression output\n",
    "\n",
    "    def _create_residual_block(self, input_dim, output_dim, dropout_rate):\n",
    "        \"\"\"Creates a deep residual block with overparameterization\"\"\"\n",
    "        return nn.Sequential(\n",
    "            nn.Linear(input_dim, output_dim),\n",
    "            nn.LayerNorm(output_dim),\n",
    "            nn.PReLU(),\n",
    "            nn.Dropout(p=dropout_rate),\n",
    "            nn.Linear(output_dim, input_dim),\n",
    "            nn.LayerNorm(input_dim),\n",
    "            nn.PReLU(),\n",
    "        )\n",
    "\n",
    "    def forward(self, x):\n",
    "        base_outputs = x.unsqueeze(dim=1)\n",
    "        # base_outputs = self.base_model(input_ids, attention_mask=attention_mask).last_hidden_state\n",
    "\n",
    "        # Multi-layer attention pooling\n",
    "        # pooled_output = base_outputs\n",
    "        pooled_outputs = []\n",
    "        for i, attn_layer in enumerate(self.attention_layers):\n",
    "            # print('tryng attn layer base output', base_outputs.shape)\n",
    "            # print(attn_layer(base_outputs).shape)\n",
    "            # print(i)\n",
    "            attention_weights = torch.softmax(attn_layer(base_outputs), dim=1)\n",
    "            pooled_output = torch.sum(attention_weights * base_outputs, dim=1)\n",
    "            pooled_outputs.append(pooled_output)\n",
    "            # print('pooled_output', pooled_output.shape)\n",
    "        # Concatenate pooled outputs across all attention layers\n",
    "        pooled_output = torch.cat(pooled_outputs, dim=1)  # Ensures shape consistency\n",
    "\n",
    "        # Deep dense connections\n",
    "        dense_out = pooled_output\n",
    "        # print('dense out shape ',dense_out.shape)\n",
    "        for dense_layer in self.dense_layers:\n",
    "            dense_out = torch.cat([dense_out, dense_layer(dense_out)], dim=1)\n",
    "            # print('dense out ', dense_out.shape)\n",
    "\n",
    "        dense_out = self.project_dense(dense_out)\n",
    "\n",
    "        # Stacked Multihead Attention\n",
    "        attention_out = dense_out.unsqueeze(1)\n",
    "        for attn_layer in self.multihead_attention_layers:\n",
    "            attention_out, _ = attn_layer(attention_out, attention_out, attention_out)\n",
    "\n",
    "        attention_out = attention_out.squeeze(1)\n",
    "\n",
    "        # Deep Residual Blocks\n",
    "        x = self.residual_blocks(attention_out)\n",
    "        # print('x ', x.shape)\n",
    "        # Overparameterized Fully Connected Layers\n",
    "        x = self.norm1(torch.relu(self.fc1(x)))\n",
    "        x = self.norm2(torch.relu(self.fc2(x)))\n",
    "        x = torch.relu(self.fc3(x))  # Extra FC layer\n",
    "\n",
    "        x = self.dropout(x)\n",
    "        regression_output = self.output_layer(x)\n",
    "\n",
    "        return regression_output.squeeze()"
   ]
  },
  {
   "cell_type": "code",
   "execution_count": null,
   "metadata": {},
   "outputs": [],
   "source": [
    "import copy\n",
    "def train_mlp_regression(model, train_loader, val_loader, num_epochs=50, lr=1e-4, patience=9):\n",
    "    device = torch.device(\"cuda\" if torch.cuda.is_available() else \"cpu\")\n",
    "    model = model.to(device)\n",
    "\n",
    "    criterion = nn.MSELoss()  # Mean Squared Error for regression\n",
    "    optimizer = optim.AdamW(model.parameters(), lr=lr, weight_decay=0.01)\n",
    "    scheduler = optim.lr_scheduler.CosineAnnealingLR(optimizer, T_max=15, eta_min=1e-8)\n",
    "\n",
    "    best_val_loss = float(\"inf\")\n",
    "    early_stop_counter = 0\n",
    "    best_model_state = None\n",
    "    \n",
    "    for epoch in range(num_epochs):\n",
    "        model.train()\n",
    "        train_loss = 0\n",
    "        for batch_features, batch_labels in tqdm(train_loader, desc=f\"Training Epoch {epoch + 1}/{num_epochs}\"):\n",
    "            batch_features, batch_labels = batch_features.to(device), batch_labels.to(device)\n",
    "            optimizer.zero_grad()\n",
    "            outputs = model(batch_features)\n",
    "            loss = criterion(outputs, batch_labels)\n",
    "            loss.backward()\n",
    "            optimizer.step()\n",
    "            train_loss += loss.item()\n",
    "\n",
    "        train_loss /= len(train_loader)\n",
    "\n",
    "        model.eval()\n",
    "        val_loss = 0\n",
    "        with torch.no_grad():\n",
    "            for batch_features, batch_labels in val_loader:\n",
    "                batch_features, batch_labels = batch_features.to(device), batch_labels.to(device)\n",
    "                outputs = model(batch_features)\n",
    "                loss = criterion(outputs, batch_labels)\n",
    "                val_loss += loss.item()\n",
    "\n",
    "        val_loss /= len(val_loader)\n",
    "        \n",
    "        avg_val_loss = val_loss\n",
    "        scheduler.step(avg_val_loss)\n",
    "        print(f\"Epoch {epoch+1}: Train Loss = {train_loss:.4f}, Val Loss = {val_loss:.4f}\")\n",
    "\n",
    "        if avg_val_loss < best_val_loss:\n",
    "            best_val_loss = avg_val_loss\n",
    "            best_model_state = copy.deepcopy(model.state_dict())\n",
    "            early_stop_counter = 0\n",
    "            print(f\"New best validation loss: {best_val_loss:.4f}\")\n",
    "        else:\n",
    "            early_stop_counter += 1\n",
    "            print(f\"No improvement in validation loss for {early_stop_counter} consecutive epochs.\")\n",
    "\n",
    "        if early_stop_counter >= patience:\n",
    "            print(f\"Early stopping triggered at epoch {epoch+1}. Best epoch was {epoch-early_stop_counter+1}.\")\n",
    "            break\n",
    "        \n",
    "    model.load_state_dict(best_model_state)\n",
    "    return model\n",
    "        \n",
    "        # if val_loss < best_val_loss:\n",
    "        #     best_val_loss = val_loss\n",
    "        #     torch.save(model.state_dict(), \"best_molformer_regression.pt\")\n",
    "        #     print(\"Best model saved.\")\n",
    "\n"
   ]
  },
  {
   "cell_type": "code",
   "execution_count": null,
   "metadata": {},
   "outputs": [
    {
     "name": "stderr",
     "output_type": "stream",
     "text": [
      "Training Epoch 1/50: 100%|██████████| 2500/2500 [02:54<00:00, 14.35it/s]\n"
     ]
    },
    {
     "name": "stdout",
     "output_type": "stream",
     "text": [
      "Epoch 1: Train Loss = 41.4668, Val Loss = 33.8062\n",
      "New best validation loss: 33.8062\n"
     ]
    },
    {
     "name": "stderr",
     "output_type": "stream",
     "text": [
      "Training Epoch 2/50: 100%|██████████| 2500/2500 [02:55<00:00, 14.25it/s]\n"
     ]
    },
    {
     "name": "stdout",
     "output_type": "stream",
     "text": [
      "Epoch 2: Train Loss = 37.6193, Val Loss = 34.6915\n",
      "No improvement in validation loss for 1 consecutive epochs.\n"
     ]
    },
    {
     "name": "stderr",
     "output_type": "stream",
     "text": [
      "Training Epoch 3/50: 100%|██████████| 2500/2500 [02:51<00:00, 14.58it/s]\n"
     ]
    },
    {
     "name": "stdout",
     "output_type": "stream",
     "text": [
      "Epoch 3: Train Loss = 37.0131, Val Loss = 34.6588\n",
      "No improvement in validation loss for 2 consecutive epochs.\n"
     ]
    },
    {
     "name": "stderr",
     "output_type": "stream",
     "text": [
      "Training Epoch 4/50: 100%|██████████| 2500/2500 [02:44<00:00, 15.18it/s]\n"
     ]
    },
    {
     "name": "stdout",
     "output_type": "stream",
     "text": [
      "Epoch 4: Train Loss = 36.6828, Val Loss = 34.0616\n",
      "No improvement in validation loss for 3 consecutive epochs.\n"
     ]
    },
    {
     "name": "stderr",
     "output_type": "stream",
     "text": [
      "Training Epoch 5/50: 100%|██████████| 2500/2500 [02:44<00:00, 15.20it/s]\n"
     ]
    },
    {
     "name": "stdout",
     "output_type": "stream",
     "text": [
      "Epoch 5: Train Loss = 36.4841, Val Loss = 33.7082\n",
      "New best validation loss: 33.7082\n"
     ]
    },
    {
     "name": "stderr",
     "output_type": "stream",
     "text": [
      "Training Epoch 6/50: 100%|██████████| 2500/2500 [02:44<00:00, 15.21it/s]\n"
     ]
    },
    {
     "name": "stdout",
     "output_type": "stream",
     "text": [
      "Epoch 6: Train Loss = 36.3379, Val Loss = 33.7035\n",
      "New best validation loss: 33.7035\n"
     ]
    },
    {
     "name": "stderr",
     "output_type": "stream",
     "text": [
      "Training Epoch 7/50: 100%|██████████| 2500/2500 [02:49<00:00, 14.72it/s]\n"
     ]
    },
    {
     "name": "stdout",
     "output_type": "stream",
     "text": [
      "Epoch 7: Train Loss = 36.3445, Val Loss = 33.9045\n",
      "No improvement in validation loss for 1 consecutive epochs.\n"
     ]
    },
    {
     "name": "stderr",
     "output_type": "stream",
     "text": [
      "Training Epoch 8/50: 100%|██████████| 2500/2500 [02:51<00:00, 14.56it/s]\n"
     ]
    },
    {
     "name": "stdout",
     "output_type": "stream",
     "text": [
      "Epoch 8: Train Loss = 36.2044, Val Loss = 33.7037\n",
      "No improvement in validation loss for 2 consecutive epochs.\n"
     ]
    },
    {
     "name": "stderr",
     "output_type": "stream",
     "text": [
      "Training Epoch 9/50: 100%|██████████| 2500/2500 [02:53<00:00, 14.39it/s]\n"
     ]
    },
    {
     "name": "stdout",
     "output_type": "stream",
     "text": [
      "Epoch 9: Train Loss = 36.1552, Val Loss = 33.7054\n",
      "No improvement in validation loss for 3 consecutive epochs.\n"
     ]
    },
    {
     "name": "stderr",
     "output_type": "stream",
     "text": [
      "Training Epoch 10/50: 100%|██████████| 2500/2500 [02:56<00:00, 14.20it/s]\n"
     ]
    },
    {
     "name": "stdout",
     "output_type": "stream",
     "text": [
      "Epoch 10: Train Loss = 36.2193, Val Loss = 34.3202\n",
      "No improvement in validation loss for 4 consecutive epochs.\n"
     ]
    },
    {
     "name": "stderr",
     "output_type": "stream",
     "text": [
      "Training Epoch 11/50: 100%|██████████| 2500/2500 [02:54<00:00, 14.35it/s]\n"
     ]
    },
    {
     "name": "stdout",
     "output_type": "stream",
     "text": [
      "Epoch 11: Train Loss = 36.1011, Val Loss = 33.8344\n",
      "No improvement in validation loss for 5 consecutive epochs.\n"
     ]
    },
    {
     "name": "stderr",
     "output_type": "stream",
     "text": [
      "Training Epoch 12/50: 100%|██████████| 2500/2500 [02:54<00:00, 14.31it/s]\n"
     ]
    },
    {
     "name": "stdout",
     "output_type": "stream",
     "text": [
      "Epoch 12: Train Loss = 36.0513, Val Loss = 35.2582\n",
      "No improvement in validation loss for 6 consecutive epochs.\n"
     ]
    },
    {
     "name": "stderr",
     "output_type": "stream",
     "text": [
      "Training Epoch 13/50: 100%|██████████| 2500/2500 [02:52<00:00, 14.50it/s]\n"
     ]
    },
    {
     "name": "stdout",
     "output_type": "stream",
     "text": [
      "Epoch 13: Train Loss = 36.0952, Val Loss = 33.7083\n",
      "No improvement in validation loss for 7 consecutive epochs.\n"
     ]
    },
    {
     "name": "stderr",
     "output_type": "stream",
     "text": [
      "Training Epoch 14/50: 100%|██████████| 2500/2500 [02:54<00:00, 14.34it/s]\n"
     ]
    },
    {
     "name": "stdout",
     "output_type": "stream",
     "text": [
      "Epoch 14: Train Loss = 36.0264, Val Loss = 33.8487\n",
      "No improvement in validation loss for 8 consecutive epochs.\n"
     ]
    },
    {
     "name": "stderr",
     "output_type": "stream",
     "text": [
      "Training Epoch 15/50: 100%|██████████| 2500/2500 [02:55<00:00, 14.22it/s]\n"
     ]
    },
    {
     "name": "stdout",
     "output_type": "stream",
     "text": [
      "Epoch 15: Train Loss = 35.8601, Val Loss = 33.8603\n",
      "No improvement in validation loss for 9 consecutive epochs.\n",
      "Early stopping triggered at epoch 15. Best epoch was 6.\n"
     ]
    },
    {
     "ename": "",
     "evalue": "",
     "output_type": "error",
     "traceback": [
      "\u001b[1;31mThe Kernel crashed while executing code in the current cell or a previous cell. \n",
      "\u001b[1;31mPlease review the code in the cell(s) to identify a possible cause of the failure. \n",
      "\u001b[1;31mClick <a href='https://aka.ms/vscodeJupyterKernelCrash'>here</a> for more info. \n",
      "\u001b[1;31mView Jupyter <a href='command:jupyter.viewOutput'>log</a> for further details."
     ]
    }
   ],
   "source": [
    "model = train_mlp_regression(OverparamMLPTxRegression(num_dense_layers=6, dropout_rate=0.5), train_loader, val_loader, lr = 1e-3, patience=9)"
   ]
  },
  {
   "cell_type": "code",
   "execution_count": 15,
   "metadata": {},
   "outputs": [
    {
     "name": "stderr",
     "output_type": "stream",
     "text": [
      "/tmp/ipykernel_1428400/3423844099.py:26: ConstantInputWarning: An input array is constant; the correlation coefficient is not defined.\n",
      "  correlation, _ = pearsonr(true_scores, pred_scores)\n",
      "/tmp/ipykernel_1428400/3423844099.py:40: UserWarning: No artists with labels found to put in legend.  Note that artists whose label start with an underscore are ignored when legend() is called with no argument.\n",
      "  plt.legend()\n"
     ]
    },
    {
     "data": {
      "image/png": "[encoded data removed]",
      "text/plain": [
       "<Figure size 800x600 with 1 Axes>"
      ]
     },
     "metadata": {},
     "output_type": "display_data"
    },
    {
     "name": "stdout",
     "output_type": "stream",
     "text": [
      "Pearson Correlation Coefficient: nan\n"
     ]
    }
   ],
   "source": [
    "from scipy.stats import pearsonr\n",
    "\n",
    "def plot_predictions(model, val_loader):\n",
    "    device = torch.device(\"cuda\" if torch.cuda.is_available() else \"cpu\")\n",
    "    model = model.to(device)\n",
    "    model.eval()\n",
    "\n",
    "    true_scores, pred_scores = [], []\n",
    "\n",
    "    with torch.no_grad():\n",
    "        for batch_features, batch_labels in val_loader:\n",
    "            batch_features, batch_labels = batch_features.to(device), batch_labels.to(device)\n",
    "            outputs = model(batch_features)\n",
    "\n",
    "            true_scores.extend(batch_labels.detach().cpu())\n",
    "            pred_scores.extend(outputs.detach().cpu())\n",
    "\n",
    "    # Convert to NumPy arrays\n",
    "    true_scores = np.array(true_scores)\n",
    "    pred_scores = np.array(pred_scores).flatten()\n",
    "    pred_scores = np.round(pred_scores, 2)\n",
    "\n",
    "    # print(true_scores, pred_scores)\n",
    "\n",
    "    # Compute Pearson correlation coefficient\n",
    "    correlation, _ = pearsonr(true_scores, pred_scores)\n",
    "\n",
    "    # Plot\n",
    "    plt.figure(figsize=(8, 6))\n",
    "    sns.scatterplot(x=true_scores, y=pred_scores, alpha=0.5)\n",
    "    plt.xlabel(\"True Docking Scores\")\n",
    "    plt.ylabel(\"Predicted Docking Scores\")\n",
    "    plt.title(f\"Regression Results: True vs. Predicted\\nPearson Correlation: {correlation:.4f}\")\n",
    "    \n",
    "    # Draw diagonal line\n",
    "    min_val = min(true_scores.min(), pred_scores.min())\n",
    "    max_val = max(true_scores.max(), pred_scores.max())\n",
    "    # plt.plot([min_val, max_val], [min_val, max_val], 'r--', lw=2, label=\"Perfect Prediction\")\n",
    "\n",
    "    plt.legend()\n",
    "    plt.show()\n",
    "\n",
    "    print(f\"Pearson Correlation Coefficient: {correlation:.4f}\")\n",
    "\n",
    "# Call the function after training\n",
    "plot_predictions(model, val_loader)\n"
   ]
  },
  {
   "cell_type": "code",
   "execution_count": 10,
   "metadata": {},
   "outputs": [
    {
     "data": {
      "text/plain": [
       "tensor(-36.5300)"
      ]
     },
     "execution_count": 10,
     "metadata": {},
     "output_type": "execute_result"
    }
   ],
   "source": [
    "batch_labels[0]"
   ]
  },
  {
   "cell_type": "code",
   "execution_count": null,
   "metadata": {},
   "outputs": [],
   "source": []
  }
 ],
 "metadata": {
  "kernelspec": {
   "display_name": "dds",
   "language": "python",
   "name": "python3"
  },
  "language_info": {
   "codemirror_mode": {
    "name": "ipython",
    "version": 3
   },
   "file_extension": ".py",
   "mimetype": "text/x-python",
   "name": "python",
   "nbconvert_exporter": "python",
   "pygments_lexer": "ipython3",
   "version": "3.11.10"
  }
 },
 "nbformat": 4,
 "nbformat_minor": 2
}
