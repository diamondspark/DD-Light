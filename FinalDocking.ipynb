{
 "cells": [
  {
   "cell_type": "code",
   "execution_count": 1,
   "metadata": {},
   "outputs": [],
   "source": [
    "import pandas as pd\n",
    "import pickle \n",
    "import glob\n",
    "from tqdm import tqdm_notebook"
   ]
  },
  {
   "cell_type": "code",
   "execution_count": 2,
   "metadata": {},
   "outputs": [
    {
     "data": {
      "text/plain": [
       "(1751486, 7)"
      ]
     },
     "execution_count": 2,
     "metadata": {},
     "output_type": "execute_result"
    }
   ],
   "source": [
    "target = 'jak2'\n",
    "molecule_df = pickle.load(open('/groups/cherkasvgrp/Student_backup/mkpandey/My_Projects/DDSgroups/Enamine2M_moldf_w_dockscore_5tgt.pkl','rb'))  #pickle.load(open(f'/groups/cherkasvgrp/Student_backup/mkpandey/My_Projects/DDSgroups/Projects/dock_{target}/iteration_0/2M_mols_w_dockscores_{target}.pkl','rb'))\n",
    "molecule_df = molecule_df[molecule_df[f'{target}_dockscores']!=0]\n",
    "molecule_df.shape"
   ]
  },
  {
   "cell_type": "code",
   "execution_count": 3,
   "metadata": {},
   "outputs": [],
   "source": [
    "# all_mols_virthits_0 = pickle.load(open('/groups/cherkasvgrp/Student_backup/mkpandey/My_Projects/DDSgroups/Projects/2FinalDockVina_jak2_bald_advanced_molformer_False_True/iteration_29/allmols_virthits_0.pkl','rb'))\n",
    "# all_mols_virthits_0"
   ]
  },
  {
   "cell_type": "code",
   "execution_count": 4,
   "metadata": {},
   "outputs": [
    {
     "name": "stderr",
     "output_type": "stream",
     "text": [
      "/tmp/ipykernel_2198972/3999469485.py:4: TqdmDeprecationWarning: This function will be removed in tqdm==5.0.0\n",
      "Please use `tqdm.notebook.tqdm` instead of `tqdm.tqdm_notebook`\n",
      "  for f in tqdm_notebook(all_mols_virthits_files):\n"
     ]
    },
    {
     "data": {
      "application/vnd.jupyter.widget-view+json": {
       "model_id": "bf595e600b0f4c9c90c171e358f230d7",
       "version_major": 2,
       "version_minor": 0
      },
      "text/plain": [
       "  0%|          | 0/51 [00:00<?, ?it/s]"
      ]
     },
     "metadata": {},
     "output_type": "display_data"
    },
    {
     "data": {
      "text/plain": [
       "27752"
      ]
     },
     "execution_count": 4,
     "metadata": {},
     "output_type": "execute_result"
    }
   ],
   "source": [
    "all_mols_virthits_files = glob.glob('/groups/cherkasvgrp/Student_backup/mkpandey/My_Projects/DDSgroups/Projects/3FinalDockVina_jak2_bald_advanced_molformer_False_True/iteration_1/allmols_virthits_*.pkl')\n",
    "len(all_mols_virthits_files)\n",
    "all_virutal_hits = []\n",
    "for f in tqdm_notebook(all_mols_virthits_files):\n",
    "    all_virutal_hits.extend(pickle.load(open(f,'rb'))[1])\n",
    "len(all_virutal_hits)\n"
   ]
  },
  {
   "cell_type": "code",
   "execution_count": 5,
   "metadata": {},
   "outputs": [],
   "source": [
    "all_docked_mols = pickle.load(open('/groups/cherkasvgrp/Student_backup/mkpandey/My_Projects/DDSgroups/Projects/3FinalDockVina_jak2_bald_advanced_molformer_False_True/iteration_1/all_docked_mols.pkl','rb'))\n",
    "# all_docked_mols"
   ]
  },
  {
   "cell_type": "code",
   "execution_count": 6,
   "metadata": {},
   "outputs": [
    {
     "data": {
      "text/plain": [
       "dict_keys(['mol_ids', 'dock_scores', 'cutoff', 'smiles'])"
      ]
     },
     "execution_count": 6,
     "metadata": {},
     "output_type": "execute_result"
    }
   ],
   "source": [
    "all_docked_mols.train.keys()"
   ]
  },
  {
   "cell_type": "code",
   "execution_count": 7,
   "metadata": {},
   "outputs": [
    {
     "data": {
      "text/plain": [
       "-9.6"
      ]
     },
     "execution_count": 7,
     "metadata": {},
     "output_type": "execute_result"
    }
   ],
   "source": [
    "all_docked_mols.train.cutoff"
   ]
  },
  {
   "cell_type": "code",
   "execution_count": 8,
   "metadata": {},
   "outputs": [
    {
     "name": "stderr",
     "output_type": "stream",
     "text": [
      "/tmp/ipykernel_2198972/1995491259.py:7: TqdmDeprecationWarning: This function will be removed in tqdm==5.0.0\n",
      "Please use `tqdm.notebook.tqdm` instead of `tqdm.tqdm_notebook`\n",
      "  for m,s,d in tqdm_notebook(zip(mols_ids,smiles,dock_scores)):\n"
     ]
    },
    {
     "data": {
      "application/vnd.jupyter.widget-view+json": {
       "model_id": "e335ccdbb85147d789e9a1e465cfef9b",
       "version_major": 2,
       "version_minor": 0
      },
      "text/plain": [
       "0it [00:00, ?it/s]"
      ]
     },
     "metadata": {},
     "output_type": "display_data"
    },
    {
     "data": {
      "application/vnd.jupyter.widget-view+json": {
       "model_id": "26791d763bbe418d925eed81c4e9d2d8",
       "version_major": 2,
       "version_minor": 0
      },
      "text/plain": [
       "0it [00:00, ?it/s]"
      ]
     },
     "metadata": {},
     "output_type": "display_data"
    },
    {
     "data": {
      "application/vnd.jupyter.widget-view+json": {
       "model_id": "6e105ae660474b93a03c5e4241995f1d",
       "version_major": 2,
       "version_minor": 0
      },
      "text/plain": [
       "0it [00:00, ?it/s]"
      ]
     },
     "metadata": {},
     "output_type": "display_data"
    }
   ],
   "source": [
    "result = []\n",
    "dock_thresh = all_docked_mols.train.cutoff\n",
    "for key in all_docked_mols:\n",
    "    mols_ids = all_docked_mols[key].mol_ids\n",
    "    smiles = all_docked_mols[key].smiles\n",
    "    dock_scores = all_docked_mols[key].dock_scores\n",
    "    for m,s,d in tqdm_notebook(zip(mols_ids,smiles,dock_scores)):\n",
    "        if d<dock_thresh:\n",
    "            result.append((m,s,d))"
   ]
  },
  {
   "cell_type": "code",
   "execution_count": 9,
   "metadata": {},
   "outputs": [],
   "source": [
    "from typing import List, Tuple\n",
    "\n",
    "def sort_by_pred_proba(\n",
    "    mol_list: List[Tuple[str, str, float]]\n",
    ") -> List[Tuple[str, str, float]]:\n",
    "    return sorted(mol_list, key=lambda x: x[2], reverse=True)"
   ]
  },
  {
   "cell_type": "code",
   "execution_count": 11,
   "metadata": {},
   "outputs": [
    {
     "name": "stderr",
     "output_type": "stream",
     "text": [
      "/tmp/ipykernel_2198972/2183067847.py:18: TqdmDeprecationWarning: This function will be removed in tqdm==5.0.0\n",
      "Please use `tqdm.notebook.tqdm` instead of `tqdm.tqdm_notebook`\n",
      "  for m,s,d in tqdm_notebook(zip(mols_ids,smiles,dock_scores)):\n"
     ]
    },
    {
     "data": {
      "application/vnd.jupyter.widget-view+json": {
       "model_id": "be47bfa8b38a40559d736cfb74fcda87",
       "version_major": 2,
       "version_minor": 0
      },
      "text/plain": [
       "0it [00:00, ?it/s]"
      ]
     },
     "metadata": {},
     "output_type": "display_data"
    },
    {
     "data": {
      "application/vnd.jupyter.widget-view+json": {
       "model_id": "53e1b21876c340bf96124eebbc39e1c8",
       "version_major": 2,
       "version_minor": 0
      },
      "text/plain": [
       "0it [00:00, ?it/s]"
      ]
     },
     "metadata": {},
     "output_type": "display_data"
    },
    {
     "data": {
      "application/vnd.jupyter.widget-view+json": {
       "model_id": "6b8de4cb00984d57be70b73d3f3e2594",
       "version_major": 2,
       "version_minor": 0
      },
      "text/plain": [
       "0it [00:00, ?it/s]"
      ]
     },
     "metadata": {},
     "output_type": "display_data"
    },
    {
     "name": "stdout",
     "output_type": "stream",
     "text": [
      "776\n",
      "All jobs with the specified name prefix have completed.\n"
     ]
    },
    {
     "data": {
      "text/html": [
       "<div>\n",
       "<style scoped>\n",
       "    .dataframe tbody tr th:only-of-type {\n",
       "        vertical-align: middle;\n",
       "    }\n",
       "\n",
       "    .dataframe tbody tr th {\n",
       "        vertical-align: top;\n",
       "    }\n",
       "\n",
       "    .dataframe thead th {\n",
       "        text-align: right;\n",
       "    }\n",
       "</style>\n",
       "<table border=\"1\" class=\"dataframe\">\n",
       "  <thead>\n",
       "    <tr style=\"text-align: right;\">\n",
       "      <th></th>\n",
       "      <th>mol_id</th>\n",
       "      <th>smiles</th>\n",
       "      <th>dock_score</th>\n",
       "    </tr>\n",
       "  </thead>\n",
       "  <tbody>\n",
       "    <tr>\n",
       "      <th>1900</th>\n",
       "      <td>m_275592____14114712____25318826____14134114</td>\n",
       "      <td>O=C(C1=CC=CC2=C1C=CN2)N1CC2CCC(C1)N2C(=O)C1=CN...</td>\n",
       "      <td>-8.8</td>\n",
       "    </tr>\n",
       "    <tr>\n",
       "      <th>1901</th>\n",
       "      <td>m_280530____18825876____18895954____18880046</td>\n",
       "      <td>O=S(=O)(C1=CC=C(N2CCC3(CC3)C2)C2=CN=CC=C12)N1C...</td>\n",
       "      <td>-8.8</td>\n",
       "    </tr>\n",
       "    <tr>\n",
       "      <th>1902</th>\n",
       "      <td>s_2230____7463156____7465568</td>\n",
       "      <td>NS(=O)(=O)C1=CC=C2CCCN(CC(=O)NC3=CC=CC=C3C(=O)...</td>\n",
       "      <td>-8.8</td>\n",
       "    </tr>\n",
       "    <tr>\n",
       "      <th>1903</th>\n",
       "      <td>s_22____8795730____25493672</td>\n",
       "      <td>CC1=NNC2=CC=CC(C(=O)N3CCCCC3C3=CC=CC=C3)=C12</td>\n",
       "      <td>-8.8</td>\n",
       "    </tr>\n",
       "    <tr>\n",
       "      <th>1904</th>\n",
       "      <td>s_11____25842454____26251830</td>\n",
       "      <td>CN1C(C2=CC=CC=C2)=NC2=C1CCN(C(=O)CC1=CNC3=CC=N...</td>\n",
       "      <td>-8.8</td>\n",
       "    </tr>\n",
       "    <tr>\n",
       "      <th>...</th>\n",
       "      <td>...</td>\n",
       "      <td>...</td>\n",
       "      <td>...</td>\n",
       "    </tr>\n",
       "    <tr>\n",
       "      <th>1995</th>\n",
       "      <td>m_274860____15234950____17184678____12655980</td>\n",
       "      <td>CC1=CC=C2C(O)=C(C(=O)NC3CCC(N4C=C(C5=CC=CC=C5O...</td>\n",
       "      <td>-7.5</td>\n",
       "    </tr>\n",
       "    <tr>\n",
       "      <th>1996</th>\n",
       "      <td>s_12____2535808____25388754____25384476</td>\n",
       "      <td>CC1=CC=C(CN2C(=O)NC(C3=C4C=CC=CC4=CC=C3C)C3=C2...</td>\n",
       "      <td>-7.3</td>\n",
       "    </tr>\n",
       "    <tr>\n",
       "      <th>1997</th>\n",
       "      <td>s_12____18801306____25387826____25389778</td>\n",
       "      <td>CCC1=CC=CC=C1N1C(=S)NC(C2=CN=C3NC=C(Br)C3=C2)C...</td>\n",
       "      <td>-7.3</td>\n",
       "    </tr>\n",
       "    <tr>\n",
       "      <th>1998</th>\n",
       "      <td>m_281630____21613318____21620652____20773002</td>\n",
       "      <td>COC1=C(C(NC2=CN3N=CC=C3N=C2)C2=NN=NN2C2=C(C)C=...</td>\n",
       "      <td>-6.8</td>\n",
       "    </tr>\n",
       "    <tr>\n",
       "      <th>1999</th>\n",
       "      <td>m_274552____24795020____24969900____15980538</td>\n",
       "      <td>O=C(C1=CN=C2NC=CC2=C1)N1CCC2=CC=CC=C2[C@]1(C(=...</td>\n",
       "      <td>-5.8</td>\n",
       "    </tr>\n",
       "  </tbody>\n",
       "</table>\n",
       "<p>100 rows × 3 columns</p>\n",
       "</div>"
      ],
      "text/plain": [
       "                                            mol_id  \\\n",
       "1900  m_275592____14114712____25318826____14134114   \n",
       "1901  m_280530____18825876____18895954____18880046   \n",
       "1902                  s_2230____7463156____7465568   \n",
       "1903                   s_22____8795730____25493672   \n",
       "1904                  s_11____25842454____26251830   \n",
       "...                                            ...   \n",
       "1995  m_274860____15234950____17184678____12655980   \n",
       "1996       s_12____2535808____25388754____25384476   \n",
       "1997      s_12____18801306____25387826____25389778   \n",
       "1998  m_281630____21613318____21620652____20773002   \n",
       "1999  m_274552____24795020____24969900____15980538   \n",
       "\n",
       "                                                 smiles  dock_score  \n",
       "1900  O=C(C1=CC=CC2=C1C=CN2)N1CC2CCC(C1)N2C(=O)C1=CN...        -8.8  \n",
       "1901  O=S(=O)(C1=CC=C(N2CCC3(CC3)C2)C2=CN=CC=C12)N1C...        -8.8  \n",
       "1902  NS(=O)(=O)C1=CC=C2CCCN(CC(=O)NC3=CC=CC=C3C(=O)...        -8.8  \n",
       "1903       CC1=NNC2=CC=CC(C(=O)N3CCCCC3C3=CC=CC=C3)=C12        -8.8  \n",
       "1904  CN1C(C2=CC=CC=C2)=NC2=C1CCN(C(=O)CC1=CNC3=CC=N...        -8.8  \n",
       "...                                                 ...         ...  \n",
       "1995  CC1=CC=C2C(O)=C(C(=O)NC3CCC(N4C=C(C5=CC=CC=C5O...        -7.5  \n",
       "1996  CC1=CC=C(CN2C(=O)NC(C3=C4C=CC=CC4=CC=C3C)C3=C2...        -7.3  \n",
       "1997  CCC1=CC=CC=C1N1C(=S)NC(C2=CN=C3NC=C(Br)C3=C2)C...        -7.3  \n",
       "1998  COC1=C(C(NC2=CN3N=CC=C3N=C2)C2=NN=NN2C2=C(C)C=...        -6.8  \n",
       "1999  O=C(C1=CN=C2NC=CC2=C1)N1CCC2=CC=CC=C2[C@]1(C(=...        -5.8  \n",
       "\n",
       "[100 rows x 3 columns]"
      ]
     },
     "execution_count": 11,
     "metadata": {},
     "output_type": "execute_result"
    }
   ],
   "source": [
    "import sys\n",
    "sys.path.append('/groups/cherkasvgrp/Student_backup/mkpandey/My_Projects/DDSgroups/VinaAL')\n",
    "from gpuvina import get_vina_scores_mul_gpu#, QuickVina2GPU\n",
    "from easydict import EasyDict\n",
    "import yaml\n",
    "\n",
    "with open('/groups/cherkasvgrp/Student_backup/mkpandey/My_Projects/DDSgroups/config/params.yml', 'r') as f:\n",
    "    config = EasyDict(yaml.safe_load(f))\n",
    "\n",
    "def get_topK_mols(all_docked_mols, all_virtual_hits, config, topK=1000, dock_tolerance = 0.1):\n",
    "    '''dock tolerance : what % more molecules to dock beyond topK to get real topK'''\n",
    "    dock_thresh = all_docked_mols.train.cutoff\n",
    "    result = []\n",
    "    for key in all_docked_mols:\n",
    "        mols_ids = all_docked_mols[key].mol_ids\n",
    "        smiles = all_docked_mols[key].smiles\n",
    "        dock_scores = all_docked_mols[key].dock_scores\n",
    "        for m,s,d in tqdm_notebook(zip(mols_ids,smiles,dock_scores)):\n",
    "            if d<dock_thresh:\n",
    "                result.append((m,s,d))\n",
    "    top_virt_hits = sort_by_pred_proba(all_virtual_hits)[0:int(1+dock_tolerance)*(max(topK-len(result),0))]\n",
    "    print(len(top_virt_hits))\n",
    "    \n",
    "    # dock top virt hits \n",
    "    dock_mol_ids = [mol[0] for mol in top_virt_hits]\n",
    "    dock_smiles_list = [mol[1] for mol in top_virt_hits]\n",
    "    dock_scores = get_vina_scores_mul_gpu(dock_smiles_list, None, config, num_gpus=config.model_hps.num_gpus, \n",
    "                                        output_dir=f\"{config.global_params.project_path}/{config.global_params.project_name}/final_docking/\",\n",
    "                                        dockscore_gt=None)\n",
    "    top_virt_result = [(m,s,d) for m,s,d in zip(dock_mol_ids,dock_smiles_list, dock_scores)]\n",
    "    # Combine both and sort by docking score\n",
    "    combined = result + top_virt_result\n",
    "    combined_sorted = sorted(combined, key=lambda x: x[2])  # Lower score = better\n",
    "\n",
    "    # Take top-K\n",
    "    topK_mols = combined_sorted[:topK]\n",
    "\n",
    "    # Convert to DataFrame\n",
    "    df_topK = pd.DataFrame(topK_mols, columns=[\"mol_id\", \"smiles\", \"dock_score\"])\n",
    "    \n",
    "    return df_topK\n",
    "    \n",
    "topkdf = get_topK_mols(all_docked_mols, all_virutal_hits,config, topK=2000)\n",
    "topkdf.tail(100)"
   ]
  },
  {
   "cell_type": "code",
   "execution_count": 12,
   "metadata": {},
   "outputs": [
    {
     "data": {
      "image/png": "[encoded data removed]",
      "text/plain": [
       "<Figure size 800x500 with 1 Axes>"
      ]
     },
     "metadata": {},
     "output_type": "display_data"
    }
   ],
   "source": [
    "import matplotlib.pyplot as plt\n",
    "threshold = -9.6\n",
    "plt.figure(figsize=(8, 5))\n",
    "plt.hist(topkdf['dock_score'], bins=30, color='skyblue', edgecolor='black')\n",
    "plt.axvline(threshold, color='red', linestyle='--', linewidth=2, label=f'Threshold = {threshold}')\n",
    "plt.xlabel('Docking Score')\n",
    "plt.ylabel('Count')\n",
    "plt.title('Histogram of Docking Scores (TopK Molecules)')\n",
    "plt.legend()\n",
    "plt.tight_layout()\n",
    "plt.show()"
   ]
  },
  {
   "cell_type": "code",
   "execution_count": 12,
   "metadata": {},
   "outputs": [
    {
     "data": {
      "image/png": "[encoded data removed]",
      "text/plain": [
       "<Figure size 800x400 with 1 Axes>"
      ]
     },
     "metadata": {},
     "output_type": "display_data"
    }
   ],
   "source": [
    "import matplotlib.pyplot as plt\n",
    "dock_scores = [-9.9, -10.1, -10.2, -9.5, -10.1, -10.7, -10.1, -9.9, -9.9, -9.8, -10.7, -9.8, -10.2, -10.4, -8.2, -9.8, -8.8, -10.0, -8.7, -11.1, -10.2, -10.3, -10.0, -9.0, -8.9, -10.1, -9.4, -9.6, -10.0, -9.4, -7.3, -10.4, -11.3, -10.3, -9.8, -10.0, -10.1, -10.1, -9.4, -9.3, -9.3, -9.9, -8.8, -9.9, -10.6, -9.9, -8.9, -9.3, -8.8, -9.3, -9.4, -10.5, -9.8, -9.5, -9.6, -9.5, -8.1, -9.8, -8.8, -9.7, -9.4, -7.9, -9.8, -9.7, -9.7, -10.6, -9.3, -10.5, -10.0, -9.8, -9.3, -9.7, -10.7, -10.1, -8.9, -10.0, -9.7, -8.8, -10.5, -8.0, -10.4, -11.1, -9.2, -9.8, -10.3, -9.8, -9.7, -8.6, -9.6, -10.2, -8.3, -9.6, -8.9, -10.0, -10.2, -10.2, -10.2, -9.8, -9.7, -8.1, -9.0, -8.5, -9.1, -9.6, -8.9, -10.1, -9.4, -10.3, -9.6, -9.2, -9.8, -10.3, -10.2, -9.6, -10.3, -9.9, -9.1, -7.5, -9.1, -11.2, -8.0, -10.6, -11.1, -9.4, -10.2, -10.6, -8.6, -10.0, -10.0, -10.0, -9.0, -9.2, -9.5, -8.8, -9.4, -8.3, -11.1, -9.3, -8.6, -9.9, -10.2, -8.8, -9.3, -8.9, -11.2, -10.6, -10.0, -9.2, -10.7, -10.1, -8.6, -8.9, -9.1, -10.1, -9.7, -9.0, -9.7, -10.4, -10.2, -9.8, -9.3, -9.8, -8.7, -9.3, -9.7, -10.8, -9.5, -9.7, -9.6, -9.9, -9.7, -8.5, -10.1, -10.7, -10.1, -11.1, -9.0, -9.7, -10.3, -9.4, -9.7, -9.8, -9.7, -10.3, -10.1, -10.1, -10.3, -8.6, -9.6, -10.4, -10.0, -10.0, -7.7, -10.6, -9.5, -9.2, -10.4, -9.2, -9.8, -9.8, -10.0, -10.2, -9.6, -8.9, -9.0, -10.0, -8.8, -10.5, -10.0, -10.6, -10.0, -9.7, -10.0, -9.4, -9.9, -9.9, -10.0, -9.7, -9.9, -10.3, -11.0, -8.8, -9.7, -10.3, -8.7, -10.4, -10.3, -9.5, -8.9, -10.8, -9.4, -9.7, -10.2, -9.7, -8.8, -10.6, -9.8, -9.2, -10.1, -10.4, -10.1, -9.7, -9.5, -10.0, -10.5, -8.8, -8.0, -8.9, -9.3, -10.2, -9.3, -9.8, -10.4, -10.8, -9.5, -10.0, -11.5, -11.1, -9.0, -9.5, -9.6, -10.0, -10.1, -9.0, -11.2, -9.0, -9.1, -10.3, -10.4, -10.1, -10.4, -10.3, -10.1, -9.6, -10.1, -9.9, -9.7, -10.2, -10.5, -9.6, -10.5, -9.6, -10.4, -9.3, -9.9, -9.2, -9.2, -10.4, -9.0, -10.4, -9.8, -11.1, -8.7, -9.8, -10.3, -9.4, -9.1, -10.0, -9.4, -10.0, -9.6, -9.4, -10.9, -9.8, -10.5, -9.6, -9.8, -8.7, -11.1, -10.2, -9.7, -8.9, -9.4, -8.2, -10.9, -6.2, -11.6, -8.6, -8.2, -8.5, -10.0, -8.9, -10.2, -9.5, -9.3, -8.3, -9.9, -9.7, -10.3, -9.4, -9.5, -9.0, -9.3, -9.9, -8.8, -10.4, -9.2, -9.9, -9.5, -9.6, -9.3, -9.9, -9.6, -10.6, -9.1, -8.0, -9.7, -9.8, -10.7, -10.0, -10.7, -9.0, -10.0, -10.0, -10.4, -10.1, -10.8, -10.7, -9.2, -9.4, -10.3, -8.8, -9.7, -9.2, -8.9, -9.9, -8.6, -9.6, -9.1, -9.3, -9.0, -10.1, -9.8, -10.2, -10.0, -10.1, -9.7, -9.2, -9.2, -10.2, -9.5, -9.5, -9.1, -10.0, -8.9, -8.9, -9.0, -9.4, -10.6, -10.8, -9.6, -8.6, -9.6, -7.9, -9.8, -8.4, -9.9, -10.7, -8.8, -8.5, -9.6, -10.5, -10.1, -10.0, -10.2, -9.3, -9.7, -9.6, -9.2, -8.5, -9.4, -9.0, -9.6, -9.2, -9.5, -8.7, -9.6, -10.8, -9.9, -9.9, -9.2, -9.5, -9.8, -8.3, -8.4, -8.3, -8.9, -8.7, -9.8, -10.8, -10.6, -11.2, -8.8, -9.7, -9.4, -10.2, -10.3, -9.7, -10.5, -8.5, -8.7, -9.1, -7.9, -9.0, -10.1, -8.8, -9.1, -10.7, -10.0, -9.0, -9.2, -8.2, -8.8, -8.5, -9.8, -11.0, -9.3, -8.6, -9.4, -9.4, -10.3, -9.8, -9.8, -10.5, -8.9, -9.4, -8.9, -8.8, -9.7, -8.6, -11.2, -8.3, -9.7, -9.9, -9.9, -9.5, -10.4, -9.6, -8.9, -9.9, -9.2, -8.5, -9.6, -10.8, -10.4, -9.8, -9.2, -9.5, -9.1, -8.2, -10.1, -9.3, -10.4, -9.6, -9.0, -9.2, -10.2, -9.9, -9.5, -9.2, -10.4, -10.3, -9.8, -9.8, -7.9, -10.2, -9.5, -8.7, -10.2, -9.7, -10.5, -10.8, -9.3, -10.1, -10.2, -10.2, -9.7, -9.8, -9.3, -9.4, -8.1, -10.9, -8.9, -10.3, -10.0, -8.2, -8.9, -9.9, -9.2, -8.3, -10.1, -8.9, -10.4, -9.5, -9.7, -10.6, -8.5, -9.4, -7.4, -9.9, -10.6, -9.5, -10.2, -9.8, -9.3, -9.9, -10.2, -9.3, -9.1, -10.0, -9.8, -9.7, -9.1, -9.4, -10.0, -10.4, -9.1, -10.4, -9.4, -9.8, -9.6, -10.2, -9.8, -9.9, -9.4, -9.9, -9.4, -9.4, -10.3, -10.4, -9.4, -9.9, -9.5, -9.5, -10.8, -10.2, -9.5, -10.0, -10.0, -9.4, -9.4, -9.1, -9.6, -10.4, -10.6, -9.7, -9.3, -10.7, -9.0, -9.2, -9.9, -10.8, -9.8, -7.3, -8.6, -10.5, -10.3, -10.2, -9.0, -8.2, -8.5, -10.4, -9.6, -10.2, -8.6, -8.3, -9.0, -9.4, -9.3, -9.8, -7.6, -9.8, -10.1, -10.3, -10.1, -9.3, -9.7, -11.4, -9.5, -9.2, -9.3, -9.3, -9.3, -9.2, -10.2, -10.6, -10.6, -8.2, -10.3, -9.8, -10.1, -8.9, -10.2, -8.7, -9.5, -10.8, -9.9, -7.7, -9.9, -9.4, -10.1, -9.1, -8.8, -9.0, -9.3, -9.5, -10.1, -9.4, -9.8, -8.8, -8.9, -10.3, -9.7, -9.1, -8.9, -10.2, -10.0, -10.9, -9.0, -8.8, -10.0, -10.4, -9.1, -10.1, -10.1, -8.7, -9.1, -9.0, -11.2, -9.8, -9.5, -10.6, -9.4, -10.6, -9.8, -9.9, -10.5, -8.9, -8.6, -9.3, -10.1, -10.0, -8.5, -10.2, -10.5, -9.1, -10.0, -9.1, -8.9, -8.7, -9.3, -9.0, -10.1, -7.1, -9.3, -8.4, -10.9, -9.1, -9.0, -8.2, -10.9, -9.5, -9.0, -8.6, -8.8, -9.2, -9.2, -9.2, -9.4, -10.3, -9.4, -10.0, -10.0, -9.3, -9.3, -9.5, -10.0, -9.7, -8.5, -10.1, -10.0, -9.4, -9.5, -9.0, -10.2, -9.9, -9.7, -10.3, -8.6, -11.1, -9.6, -9.1, -9.0, -9.9, -10.7, -11.0, -9.3, -11.5, -7.9, -9.5, -9.3, -10.1, -9.8, -8.7, -9.6, -10.9, -9.8, -8.2, -9.1, -9.6, -8.9, -8.6, -10.2, -9.7, -10.0, -9.7, -9.9, -8.2, -8.9, -10.2, -9.7, -10.3, -8.1, -9.7, -9.9, -10.0, -9.0, -10.2, -10.0, -9.7, -9.6, -9.7, -8.4, -9.7, -9.2, -10.0]\n",
    "\n",
    "def plot_docking_scores(scores, threshold=-9.6):\n",
    "    plt.figure(figsize=(8, 4))\n",
    "    plt.plot(scores, marker='o', linestyle='-', label='Docking Score')\n",
    "    plt.axhline(y=threshold, color='red', linestyle='--', label=f'Threshold = {threshold}')\n",
    "    plt.xlabel('Molecule Index')\n",
    "    plt.ylabel('Docking Score')\n",
    "    plt.title('Docking Scores with Threshold')\n",
    "    plt.legend()\n",
    "    plt.grid(True)\n",
    "    plt.tight_layout()\n",
    "    plt.show()\n",
    "    \n",
    "def plot_docking_scores(scores, threshold=-9.6):\n",
    "    plt.figure(figsize=(8, 4))\n",
    "    plt.hist(scores, bins=30, color='skyblue', edgecolor='black')\n",
    "    plt.axvline(x=threshold, color='red', linestyle='--', linewidth=2, label=f'Threshold = {threshold}')\n",
    "    plt.xlabel('Docking Score')\n",
    "    plt.ylabel('Count')\n",
    "    plt.title('Histogram of Docking Scores')\n",
    "    plt.legend()\n",
    "    plt.grid(True, linestyle='--', alpha=0.5)\n",
    "    plt.tight_layout()\n",
    "    plt.show()\n",
    "plot_docking_scores(dock_scores)\n"
   ]
  },
  {
   "cell_type": "code",
   "execution_count": 13,
   "metadata": {},
   "outputs": [
    {
     "data": {
      "text/plain": [
       "(442, 776)"
      ]
     },
     "execution_count": 13,
     "metadata": {},
     "output_type": "execute_result"
    }
   ],
   "source": [
    "sum(score <= -9.6 for score in dock_scores), len(dock_scores)"
   ]
  },
  {
   "cell_type": "code",
   "execution_count": 14,
   "metadata": {},
   "outputs": [
    {
     "data": {
      "text/plain": [
       "0.5695876288659794"
      ]
     },
     "execution_count": 14,
     "metadata": {},
     "output_type": "execute_result"
    }
   ],
   "source": [
    "442/776"
   ]
  },
  {
   "cell_type": "code",
   "execution_count": null,
   "metadata": {},
   "outputs": [],
   "source": []
  }
 ],
 "metadata": {
  "kernelspec": {
   "display_name": "dds",
   "language": "python",
   "name": "python3"
  },
  "language_info": {
   "codemirror_mode": {
    "name": "ipython",
    "version": 3
   },
   "file_extension": ".py",
   "mimetype": "text/x-python",
   "name": "python",
   "nbconvert_exporter": "python",
   "pygments_lexer": "ipython3",
   "version": "3.11.10"
  }
 },
 "nbformat": 4,
 "nbformat_minor": 2
}
