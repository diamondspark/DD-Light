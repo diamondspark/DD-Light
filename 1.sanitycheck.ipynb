{
 "cells": [
  {
   "cell_type": "code",
   "execution_count": null,
   "metadata": {},
   "outputs": [],
   "source": [
    "import pandas as pd"
   ]
  },
  {
   "cell_type": "code",
   "execution_count": 4,
   "metadata": {},
   "outputs": [],
   "source": [
    "import pickle\n",
    "import pandas as pd\n",
    "import glob\n",
    "from pathlib import Path\n",
    "import re"
   ]
  },
  {
   "cell_type": "code",
   "execution_count": 5,
   "metadata": {},
   "outputs": [
    {
     "name": "stdout",
     "output_type": "stream",
     "text": [
      "allmols_virthits_25\n",
      "match  None\n",
      "taskid_2_res_dict  {}\n",
      "allmols_virthits_0\n",
      "match  None\n",
      "taskid_2_res_dict  {}\n",
      "allmols_virthits_11\n",
      "match  None\n",
      "taskid_2_res_dict  {}\n",
      "allmols_virthits_1\n",
      "match  None\n",
      "taskid_2_res_dict  {}\n",
      "allmols_virthits_2\n",
      "match  None\n",
      "taskid_2_res_dict  {}\n",
      "allmols_virthits_22\n",
      "match  None\n",
      "taskid_2_res_dict  {}\n",
      "allmols_virthits_3\n",
      "match  None\n",
      "taskid_2_res_dict  {}\n",
      "allmols_virthits_27\n",
      "match  None\n",
      "taskid_2_res_dict  {}\n",
      "allmols_virthits_20\n",
      "match  None\n",
      "taskid_2_res_dict  {}\n",
      "allmols_virthits_13\n",
      "match  None\n",
      "taskid_2_res_dict  {}\n",
      "allmols_virthits_26\n",
      "match  None\n",
      "taskid_2_res_dict  {}\n",
      "allmols_virthits_12\n",
      "match  None\n",
      "taskid_2_res_dict  {}\n",
      "allmols_virthits_10\n",
      "match  None\n",
      "taskid_2_res_dict  {}\n",
      "allmols_virthits_19\n",
      "match  None\n",
      "taskid_2_res_dict  {}\n",
      "allmols_virthits_16\n",
      "match  None\n",
      "taskid_2_res_dict  {}\n",
      "allmols_virthits_14\n",
      "match  None\n",
      "taskid_2_res_dict  {}\n",
      "allmols_virthits_24\n",
      "match  None\n",
      "taskid_2_res_dict  {}\n",
      "allmols_virthits_5\n",
      "match  None\n",
      "taskid_2_res_dict  {}\n",
      "allmols_virthits_28\n",
      "match  None\n",
      "taskid_2_res_dict  {}\n",
      "allmols_virthits_7\n",
      "match  None\n",
      "taskid_2_res_dict  {}\n",
      "allmols_virthits_15\n",
      "match  None\n",
      "taskid_2_res_dict  {}\n",
      "allmols_virthits_29\n",
      "match  None\n",
      "taskid_2_res_dict  {}\n",
      "allmols_virthits_18\n",
      "match  None\n",
      "taskid_2_res_dict  {}\n",
      "allmols_virthits_9\n",
      "match  None\n",
      "taskid_2_res_dict  {}\n",
      "allmols_virthits_6\n",
      "match  None\n",
      "taskid_2_res_dict  {}\n",
      "allmols_virthits_17\n",
      "match  None\n",
      "taskid_2_res_dict  {}\n",
      "allmols_virthits_23\n",
      "match  None\n",
      "taskid_2_res_dict  {}\n",
      "allmols_virthits_8\n",
      "match  None\n",
      "taskid_2_res_dict  {}\n",
      "allmols_virthits_4\n",
      "match  None\n",
      "taskid_2_res_dict  {}\n",
      "allmols_virthits_21\n",
      "match  None\n",
      "taskid_2_res_dict  {}\n"
     ]
    }
   ],
   "source": [
    "iteration_dir = '/groups/cherkasvgrp/Student_backup/mkpandey/My_Projects/DDSgroups/Projects/dev_pd_jak2_greedy_decay_cutoff/iteration_1'\n",
    "res_files = glob.glob(str(iteration_dir+'/allmols_virthits_*.pkl'))\n",
    "taskid_2_res_dict = {}\n",
    "for file in res_files:\n",
    "    with open(file,'rb') as f:\n",
    "        (all_molecules, virtual_hits) = pickle.load(f)\n",
    "    filename = Path(file).stem  # Extract filename without extension\n",
    "    print(filename)\n",
    "    match = re.search(r'topmols_virthits_(\\d+)', filename)  # Extract the number\n",
    "    print('match ', match)\n",
    "    if match:\n",
    "        task_id = int(match.group(1))  # Convert to integer\n",
    "        taskid_2_res_dict[task_id] = {'all_molecules': all_molecules,\n",
    "                                        'virtual_hits':virtual_hits} \n",
    "    print('taskid_2_res_dict ', taskid_2_res_dict)"
   ]
  },
  {
   "cell_type": "code",
   "execution_count": 4,
   "metadata": {},
   "outputs": [],
   "source": [
    "target = 'jak2'\n",
    "molecule_df = pickle.load(open(f'/groups/cherkasvgrp/Student_backup/mkpandey/My_Projects/DDSgroups/Projects/dock_{target}/iteration_0/2M_mols_w_dockscores_{target}.pkl','rb'))\n",
    "molecule_df = molecule_df[molecule_df[f'{target}_dockscores']!=0]\n",
    "smiles_2_dockscore_gt=  dict(zip(molecule_df[\"smiles\"], molecule_df[f\"{target}_dockscores\"]))"
   ]
  },
  {
   "cell_type": "code",
   "execution_count": 13,
   "metadata": {},
   "outputs": [
    {
     "data": {
      "text/html": [
       "<div>\n",
       "<style scoped>\n",
       "    .dataframe tbody tr th:only-of-type {\n",
       "        vertical-align: middle;\n",
       "    }\n",
       "\n",
       "    .dataframe tbody tr th {\n",
       "        vertical-align: top;\n",
       "    }\n",
       "\n",
       "    .dataframe thead th {\n",
       "        text-align: right;\n",
       "    }\n",
       "</style>\n",
       "<table border=\"1\" class=\"dataframe\">\n",
       "  <thead>\n",
       "    <tr style=\"text-align: right;\">\n",
       "      <th></th>\n",
       "      <th>zinc_id</th>\n",
       "      <th>smiles</th>\n",
       "      <th>indices</th>\n",
       "      <th>jak2_dockscores</th>\n",
       "    </tr>\n",
       "  </thead>\n",
       "  <tbody>\n",
       "    <tr>\n",
       "      <th>276660</th>\n",
       "      <td>s_22____20973090____582272</td>\n",
       "      <td>CC1=C(CCC(=O)NC2=CC=CC=C2OC2=CC(N(C)C)=CC=C2)C...</td>\n",
       "      <td>b\")\\x00\\x00\\x00P\\x00\\x00\\x00\\\\\\x00\\x00\\x00\\x86...</td>\n",
       "      <td>-8.1</td>\n",
       "    </tr>\n",
       "  </tbody>\n",
       "</table>\n",
       "</div>"
      ],
      "text/plain": [
       "                           zinc_id  \\\n",
       "276660  s_22____20973090____582272   \n",
       "\n",
       "                                                   smiles  \\\n",
       "276660  CC1=C(CCC(=O)NC2=CC=CC=C2OC2=CC(N(C)C)=CC=C2)C...   \n",
       "\n",
       "                                                  indices  jak2_dockscores  \n",
       "276660  b\")\\x00\\x00\\x00P\\x00\\x00\\x00\\\\\\x00\\x00\\x00\\x86...             -8.1  "
      ]
     },
     "execution_count": 13,
     "metadata": {},
     "output_type": "execute_result"
    }
   ],
   "source": [
    "molecule_df[molecule_df.smiles=='CC1=C(CCC(=O)NC2=CC=CC=C2OC2=CC(N(C)C)=CC=C2)C(=O)NC=N1']"
   ]
  },
  {
   "cell_type": "code",
   "execution_count": 11,
   "metadata": {},
   "outputs": [
    {
     "data": {
      "text/plain": [
       "-8.1"
      ]
     },
     "execution_count": 11,
     "metadata": {},
     "output_type": "execute_result"
    }
   ],
   "source": [
    "smiles_2_dockscore_gt['CC1=C(CCC(=O)NC2=CC=CC=C2OC2=CC(N(C)C)=CC=C2)C(=O)NC=N1']"
   ]
  },
  {
   "cell_type": "code",
   "execution_count": 10,
   "metadata": {},
   "outputs": [
    {
     "name": "stdout",
     "output_type": "stream",
     "text": [
      "(-8.1, 'CC1=C(CCC(=O)NC2=CC=CC=C2OC2=CC(N(C)C)=CC=C2)C(=O)NC=N1')\n"
     ]
    }
   ],
   "source": [
    "with open('/groups/cherkasvgrp/Student_backup/mkpandey/My_Projects/DDSgroups/VinaAL/Experiments/it0data.pkl','rb') as f:\n",
    "    it0data = pickle.load(f)\n",
    "\n",
    "for tup in zip(it0data['validation']['dock_scores'], it0data['validation']['smiles']):\n",
    "    print(tup)\n",
    "    break"
   ]
  },
  {
   "cell_type": "code",
   "execution_count": null,
   "metadata": {},
   "outputs": [],
   "source": []
  }
 ],
 "metadata": {
  "kernelspec": {
   "display_name": "dds",
   "language": "python",
   "name": "python3"
  },
  "language_info": {
   "codemirror_mode": {
    "name": "ipython",
    "version": 3
   },
   "file_extension": ".py",
   "mimetype": "text/x-python",
   "name": "python",
   "nbconvert_exporter": "python",
   "pygments_lexer": "ipython3",
   "version": "3.11.10"
  }
 },
 "nbformat": 4,
 "nbformat_minor": 2
}
